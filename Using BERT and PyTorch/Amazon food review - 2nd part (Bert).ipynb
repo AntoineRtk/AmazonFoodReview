{
 "cells": [
  {
   "cell_type": "markdown",
   "id": "4ee99dda-1a2b-4b98-94e2-c1a3332cc8be",
   "metadata": {
    "id": "4ee99dda-1a2b-4b98-94e2-c1a3332cc8be"
   },
   "source": [
    "# Sentiment analysis: *Amazon fine food review* - 2nd part"
   ]
  },
  {
   "cell_type": "markdown",
   "id": "p4SdDCxruvW5",
   "metadata": {
    "id": "p4SdDCxruvW5"
   },
   "source": [
    "For this notebook, I heavily used this article: [here](https://medium.com/nerd-for-tech/fine-tuning-pretrained-bert-for-sentiment-classification-using-transformers-in-python-931ed142e37)"
   ]
  },
  {
   "cell_type": "markdown",
   "id": "e0e1712f-1594-47e8-8bc7-af162537e186",
   "metadata": {
    "id": "e0e1712f-1594-47e8-8bc7-af162537e186"
   },
   "source": [
    "### Presentation\n",
    "\n",
    "* The project is based on the Amazon food review from customers dataset\n",
    "* The original Kaggle competition was to predict whether a review was positive or negative\n",
    "* In this project, we will add the **neural** level\n",
    "* You will try to **predict the 3 classes** given by the user according to their **review**\n",
    "* The dataset contains more than 500K reviews"
   ]
  },
  {
   "cell_type": "markdown",
   "id": "807ccad7-0784-4b6d-b6f2-d88a3f318f50",
   "metadata": {
    "id": "807ccad7-0784-4b6d-b6f2-d88a3f318f50"
   },
   "source": [
    "### Download the data\n",
    "\n",
    "https://www.kaggle.com/snap/amazon-fine-food-reviews/download\n",
    "\n",
    "(254MB)"
   ]
  },
  {
   "cell_type": "code",
   "execution_count": 1,
   "id": "pusajWtHl28M",
   "metadata": {
    "colab": {
     "base_uri": "https://localhost:8080/"
    },
    "id": "pusajWtHl28M",
    "outputId": "317af838-d6f6-4460-a6c5-a0257a8b6e2c"
   },
   "outputs": [
    {
     "name": "stdout",
     "output_type": "stream",
     "text": [
      "Collecting transformers\n",
      "  Downloading transformers-4.16.2-py3-none-any.whl (3.5 MB)\n",
      "\u001b[K     |████████████████████████████████| 3.5 MB 5.2 MB/s \n",
      "\u001b[?25hRequirement already satisfied: tqdm>=4.27 in /usr/local/lib/python3.7/dist-packages (from transformers) (4.62.3)\n",
      "Collecting tokenizers!=0.11.3,>=0.10.1\n",
      "  Downloading tokenizers-0.11.5-cp37-cp37m-manylinux_2_12_x86_64.manylinux2010_x86_64.whl (6.8 MB)\n",
      "\u001b[K     |████████████████████████████████| 6.8 MB 40.0 MB/s \n",
      "\u001b[?25hRequirement already satisfied: numpy>=1.17 in /usr/local/lib/python3.7/dist-packages (from transformers) (1.21.5)\n",
      "Collecting sacremoses\n",
      "  Downloading sacremoses-0.0.47-py2.py3-none-any.whl (895 kB)\n",
      "\u001b[K     |████████████████████████████████| 895 kB 40.2 MB/s \n",
      "\u001b[?25hCollecting huggingface-hub<1.0,>=0.1.0\n",
      "  Downloading huggingface_hub-0.4.0-py3-none-any.whl (67 kB)\n",
      "\u001b[K     |████████████████████████████████| 67 kB 3.0 MB/s \n",
      "\u001b[?25hRequirement already satisfied: packaging>=20.0 in /usr/local/lib/python3.7/dist-packages (from transformers) (21.3)\n",
      "Requirement already satisfied: filelock in /usr/local/lib/python3.7/dist-packages (from transformers) (3.4.2)\n",
      "Collecting pyyaml>=5.1\n",
      "  Downloading PyYAML-6.0-cp37-cp37m-manylinux_2_5_x86_64.manylinux1_x86_64.manylinux_2_12_x86_64.manylinux2010_x86_64.whl (596 kB)\n",
      "\u001b[K     |████████████████████████████████| 596 kB 17.0 MB/s \n",
      "\u001b[?25hRequirement already satisfied: requests in /usr/local/lib/python3.7/dist-packages (from transformers) (2.23.0)\n",
      "Requirement already satisfied: importlib-metadata in /usr/local/lib/python3.7/dist-packages (from transformers) (4.11.0)\n",
      "Requirement already satisfied: regex!=2019.12.17 in /usr/local/lib/python3.7/dist-packages (from transformers) (2019.12.20)\n",
      "Requirement already satisfied: typing-extensions>=3.7.4.3 in /usr/local/lib/python3.7/dist-packages (from huggingface-hub<1.0,>=0.1.0->transformers) (3.10.0.2)\n",
      "Requirement already satisfied: pyparsing!=3.0.5,>=2.0.2 in /usr/local/lib/python3.7/dist-packages (from packaging>=20.0->transformers) (3.0.7)\n",
      "Requirement already satisfied: zipp>=0.5 in /usr/local/lib/python3.7/dist-packages (from importlib-metadata->transformers) (3.7.0)\n",
      "Requirement already satisfied: urllib3!=1.25.0,!=1.25.1,<1.26,>=1.21.1 in /usr/local/lib/python3.7/dist-packages (from requests->transformers) (1.24.3)\n",
      "Requirement already satisfied: idna<3,>=2.5 in /usr/local/lib/python3.7/dist-packages (from requests->transformers) (2.10)\n",
      "Requirement already satisfied: chardet<4,>=3.0.2 in /usr/local/lib/python3.7/dist-packages (from requests->transformers) (3.0.4)\n",
      "Requirement already satisfied: certifi>=2017.4.17 in /usr/local/lib/python3.7/dist-packages (from requests->transformers) (2021.10.8)\n",
      "Requirement already satisfied: six in /usr/local/lib/python3.7/dist-packages (from sacremoses->transformers) (1.15.0)\n",
      "Requirement already satisfied: joblib in /usr/local/lib/python3.7/dist-packages (from sacremoses->transformers) (1.1.0)\n",
      "Requirement already satisfied: click in /usr/local/lib/python3.7/dist-packages (from sacremoses->transformers) (7.1.2)\n",
      "Installing collected packages: pyyaml, tokenizers, sacremoses, huggingface-hub, transformers\n",
      "  Attempting uninstall: pyyaml\n",
      "    Found existing installation: PyYAML 3.13\n",
      "    Uninstalling PyYAML-3.13:\n",
      "      Successfully uninstalled PyYAML-3.13\n",
      "Successfully installed huggingface-hub-0.4.0 pyyaml-6.0 sacremoses-0.0.47 tokenizers-0.11.5 transformers-4.16.2\n"
     ]
    }
   ],
   "source": [
    "!pip install transformers"
   ]
  },
  {
   "cell_type": "code",
   "execution_count": 2,
   "id": "4cd3a1fc-feb7-425c-a3a3-5695edfb489b",
   "metadata": {
    "id": "4cd3a1fc-feb7-425c-a3a3-5695edfb489b"
   },
   "outputs": [],
   "source": [
    "import re\n",
    "from pathlib import Path\n",
    "\n",
    "\n",
    "import numpy as np\n",
    "import pandas as pd\n",
    "import seaborn as sns\n",
    "import matplotlib.pyplot as plt\n",
    "\n",
    "from sklearn import (\n",
    "    metrics,\n",
    "    model_selection,\n",
    ")\n",
    "\n",
    "from tqdm.notebook import tqdm\n",
    "\n",
    "import torch\n",
    "from torch.utils.data import Dataset\n",
    "from transformers import DistilBertTokenizerFast,DistilBertForSequenceClassification\n",
    "from transformers import Trainer,TrainingArguments"
   ]
  },
  {
   "cell_type": "code",
   "execution_count": 3,
   "id": "0dc68ce3-cd77-4f7d-91a9-502df5687ac1",
   "metadata": {
    "id": "0dc68ce3-cd77-4f7d-91a9-502df5687ac1"
   },
   "outputs": [],
   "source": [
    "sns.set_style(\"darkgrid\")\n",
    "sns.set_context(\"notebook\")\n",
    "\n",
    "tqdm.pandas()\n",
    "\n",
    "%config InlineBackend.figure_format=\"retina\"  # For high DPI display"
   ]
  },
  {
   "cell_type": "code",
   "execution_count": 4,
   "id": "rhqM60kk98RV",
   "metadata": {
    "colab": {
     "base_uri": "https://localhost:8080/"
    },
    "id": "rhqM60kk98RV",
    "outputId": "4b0e17aa-4ed3-4be7-8992-f3acfd4103a6"
   },
   "outputs": [
    {
     "name": "stdout",
     "output_type": "stream",
     "text": [
      "Mounted at /content/drive/\n"
     ]
    }
   ],
   "source": [
    "from google.colab import drive\n",
    "drive.mount('/content/drive/')"
   ]
  },
  {
   "cell_type": "code",
   "execution_count": 5,
   "id": "c9b4b35c-44a6-4456-bc4f-fd481debc9a2",
   "metadata": {
    "id": "c9b4b35c-44a6-4456-bc4f-fd481debc9a2"
   },
   "outputs": [],
   "source": [
    "DATA = Path(\"drive/My Drive/data\")\n",
    "\n",
    "assert DATA.is_dir()\n",
    "\n",
    "IMG = Path(\"drive/My Drive/img\")\n",
    "\n",
    "assert IMG.is_dir()\n",
    "\n",
    "RES = Path(\"drive/My Drive/res\")\n",
    "\n",
    "assert RES.is_dir()"
   ]
  },
  {
   "cell_type": "markdown",
   "id": "9ff10692-6925-4f8d-8c11-95ff781d3097",
   "metadata": {
    "id": "9ff10692-6925-4f8d-8c11-95ff781d3097"
   },
   "source": [
    "### Read Data"
   ]
  },
  {
   "cell_type": "code",
   "execution_count": 6,
   "id": "f35da272-9058-4734-bc97-7d020fd61281",
   "metadata": {
    "colab": {
     "base_uri": "https://localhost:8080/"
    },
    "id": "f35da272-9058-4734-bc97-7d020fd61281",
    "outputId": "8245f4e1-e604-4315-9ae5-8ab897bb0686"
   },
   "outputs": [
    {
     "name": "stdout",
     "output_type": "stream",
     "text": [
      "100.00%, raw_dim: 394,970, dim: 394,970\n"
     ]
    }
   ],
   "source": [
    "raw_df = pd.read_csv(DATA / \"Reviews_small.csv.xz\")\n",
    "raw_df.head()\n",
    "\n",
    "raw_dim = raw_df.shape[0]\n",
    "df = raw_df[~raw_df.duplicated([\"Text\", \"Summary\"])].copy()\n",
    "dim = df.shape[0]\n",
    "\n",
    "print(f\"{dim / raw_dim:.2%}, raw_dim: {raw_dim:,}, dim: {dim:,}\")\n",
    "\n",
    "#df = raw_df[~raw_df.duplicated([\"Text\", \"Summary\", \"Score\"])]\n",
    "#df[df.duplicated([\"Text\", \"Summary\"], keep=False)].shape[0]"
   ]
  },
  {
   "cell_type": "markdown",
   "id": "33b1c6a7-4f1c-43e9-9608-c9d4cce4e389",
   "metadata": {
    "id": "33b1c6a7-4f1c-43e9-9608-c9d4cce4e389"
   },
   "source": [
    "* Contains some product, user, and review information\n",
    "\n",
    "* Data used here:\n",
    "\n",
    "    * Text: Complete product review by the customer\n",
    "    * Summary: Summary proposed by the customer\n",
    "    * Score: The product rating provided by the customer"
   ]
  },
  {
   "cell_type": "markdown",
   "id": "feCCrpm5tEEi",
   "metadata": {
    "id": "feCCrpm5tEEi"
   },
   "source": [
    "### Data exploration\n"
   ]
  },
  {
   "cell_type": "markdown",
   "id": "3576faf9-a9e3-4f45-87b3-6fd2c8beb284",
   "metadata": {
    "id": "3576faf9-a9e3-4f45-87b3-6fd2c8beb284"
   },
   "source": [
    "#### Distribution of the variable ***Score***"
   ]
  },
  {
   "cell_type": "code",
   "execution_count": 7,
   "id": "46a9a1da-0452-437d-a17e-c03b7aa06166",
   "metadata": {
    "colab": {
     "base_uri": "https://localhost:8080/",
     "height": 284
    },
    "id": "46a9a1da-0452-437d-a17e-c03b7aa06166",
    "outputId": "fc0dd5fe-3197-422e-dbb8-342413338673"
   },
   "outputs": [
    {
     "data": {
      "image/png": "[encoded data removed]",
      "text/plain": [
       "<Figure size 432x288 with 1 Axes>"
      ]
     },
     "metadata": {
      "image/png": {
       "height": 267,
       "width": 417
      }
     },
     "output_type": "display_data"
    }
   ],
   "source": [
    "sns.histplot(df, x=\"Score\", alpha=0.6, discrete=True)\n",
    "plt.show()"
   ]
  },
  {
   "cell_type": "markdown",
   "id": "c74ccd4b-93f9-4718-9c64-5414500af6f5",
   "metadata": {
    "id": "c74ccd4b-93f9-4718-9c64-5414500af6f5"
   },
   "source": [
    "* Most of the customer rating is positive "
   ]
  },
  {
   "cell_type": "markdown",
   "id": "e44e5938-623b-4259-b813-6e5db2cab12b",
   "metadata": {
    "id": "e44e5938-623b-4259-b813-6e5db2cab12b"
   },
   "source": [
    "### Analysis of binary and 3-classes versions"
   ]
  },
  {
   "cell_type": "markdown",
   "id": "a88632b8-c3c9-4243-aa45-71c47a5f2ab9",
   "metadata": {
    "id": "a88632b8-c3c9-4243-aa45-71c47a5f2ab9"
   },
   "source": [
    "* Convert the 5-grade rating to a 3-grade sentiment as a target variable\n",
    "* Positive ratings will be classified as +1, neutral 0, and negative -1\n",
    "* The value of 3 in the rating will be used as threshold"
   ]
  },
  {
   "cell_type": "code",
   "execution_count": 8,
   "id": "f3e40105-fb72-4ecc-bc3c-f56dc364c56f",
   "metadata": {
    "id": "f3e40105-fb72-4ecc-bc3c-f56dc364c56f"
   },
   "outputs": [],
   "source": [
    "def convert_rating(rating, threshold=3):\n",
    "    if rating > threshold:\n",
    "        return 2\n",
    "    if rating < threshold:\n",
    "        return 0\n",
    "    return 1"
   ]
  },
  {
   "cell_type": "code",
   "execution_count": 9,
   "id": "c6f3d34c-d589-445d-ab4c-85edcbfa0b96",
   "metadata": {
    "id": "c6f3d34c-d589-445d-ab4c-85edcbfa0b96"
   },
   "outputs": [],
   "source": [
    "df[\"sentiment\"] = df.Score.map(convert_rating)"
   ]
  },
  {
   "cell_type": "markdown",
   "id": "h-BBIF_zwkhm",
   "metadata": {
    "id": "h-BBIF_zwkhm"
   },
   "source": [
    "We had to change the value here as we fed our data to BERT that need this encoding. As there are 3 classes, labels are 0, 1 and 2."
   ]
  },
  {
   "cell_type": "markdown",
   "id": "e986d2a5-b8cb-4ad7-b99d-5276a74bcc15",
   "metadata": {
    "id": "e986d2a5-b8cb-4ad7-b99d-5276a74bcc15"
   },
   "source": [
    "## Create the train and test sets"
   ]
  },
  {
   "cell_type": "markdown",
   "id": "a17d6b48-8cd4-432f-b5fe-fa4964574b31",
   "metadata": {
    "id": "a17d6b48-8cd4-432f-b5fe-fa4964574b31"
   },
   "source": [
    "It is **crucial** to keep the **test set** for the very last check when the model has been built."
   ]
  },
  {
   "cell_type": "code",
   "execution_count": 10,
   "id": "542f3ccc-0dd9-4f76-9612-d1c0f289353f",
   "metadata": {
    "id": "542f3ccc-0dd9-4f76-9612-d1c0f289353f"
   },
   "outputs": [],
   "source": [
    "train_df, test_df = model_selection.train_test_split(\n",
    "    df, test_size=0.2, random_state=1\n",
    ")"
   ]
  },
  {
   "cell_type": "code",
   "execution_count": 11,
   "id": "8cf99e0d-8113-424d-8a8a-3ddce170ffb2",
   "metadata": {
    "colab": {
     "base_uri": "https://localhost:8080/"
    },
    "id": "8cf99e0d-8113-424d-8a8a-3ddce170ffb2",
    "outputId": "7849636a-cbd7-44b5-d408-353f2e9fe0f5"
   },
   "outputs": [
    {
     "data": {
      "text/plain": [
       "((315976, 5), 157988)"
      ]
     },
     "execution_count": 11,
     "metadata": {},
     "output_type": "execute_result"
    }
   ],
   "source": [
    "train_df.shape, train_df.shape[0]//2"
   ]
  },
  {
   "cell_type": "markdown",
   "id": "-wN-__K3tlvU",
   "metadata": {
    "id": "-wN-__K3tlvU"
   },
   "source": [
    "### Preparation"
   ]
  },
  {
   "cell_type": "code",
   "execution_count": 12,
   "id": "ksjO5HCWtsiV",
   "metadata": {
    "id": "ksjO5HCWtsiV"
   },
   "outputs": [],
   "source": [
    "class SentimentDataset(torch.utils.data.Dataset):\n",
    "    def __init__(self, encodings, labels):\n",
    "        self.encodings = encodings\n",
    "        self.labels = labels\n",
    "\n",
    "    def __getitem__(self, idx):\n",
    "        item = {key: torch.tensor(val[idx]) for key, val in self.encodings.items()}\n",
    "        item['labels'] = torch.tensor(self.labels[idx])\n",
    "        return item\n",
    "\n",
    "    def __len__(self):\n",
    "        return len(self.labels)\n",
    "\n",
    "class SentimentTestDataset(torch.utils.data.Dataset):\n",
    "    def __init__(self, encodings):\n",
    "        self.encodings = encodings\n",
    "\n",
    "    def __getitem__(self, idx):\n",
    "        item = {key: torch.tensor(val[idx]) for key, val in self.encodings.items()}\n",
    "        return item\n",
    "    def __len__(self):\n",
    "        return len(self.encodings)"
   ]
  },
  {
   "cell_type": "markdown",
   "id": "Uocm7dPTuD9q",
   "metadata": {
    "id": "Uocm7dPTuD9q"
   },
   "source": [
    "The class we will need to encode our data (with DataLoader) to BERT for fine-tuning or testing."
   ]
  },
  {
   "cell_type": "markdown",
   "id": "d0bd2ce3-8bd8-450d-93cb-2de82dd21e47",
   "metadata": {
    "id": "d0bd2ce3-8bd8-450d-93cb-2de82dd21e47"
   },
   "source": [
    "## Classification based on `Summary`"
   ]
  },
  {
   "cell_type": "code",
   "execution_count": 13,
   "id": "7e2c33e4-01d8-48db-a7ed-f5a46a0cfa2d",
   "metadata": {
    "id": "7e2c33e4-01d8-48db-a7ed-f5a46a0cfa2d"
   },
   "outputs": [],
   "source": [
    "cln_df = train_df[[\"Summary\", \"sentiment\"]].copy()\n",
    "cln_df.dropna(subset=[\"Summary\"], inplace=True)\n",
    "\n",
    "cln_test_df = test_df[[\"Summary\", \"sentiment\"]].copy()\n",
    "cln_test_df.dropna(subset=[\"Summary\"], inplace=True)"
   ]
  },
  {
   "cell_type": "markdown",
   "id": "08da0992-0889-4f84-aef1-fdf1cb026068",
   "metadata": {
    "id": "08da0992-0889-4f84-aef1-fdf1cb026068"
   },
   "source": [
    "Split the data into a train (80%) and validation sets (20%)"
   ]
  },
  {
   "cell_type": "code",
   "execution_count": 14,
   "id": "6d08e9b2-922d-469d-bd84-3386fd0a915b",
   "metadata": {
    "colab": {
     "base_uri": "https://localhost:8080/"
    },
    "id": "6d08e9b2-922d-469d-bd84-3386fd0a915b",
    "outputId": "6168fdce-26e7-4255-f7b7-292a6aef5a5f"
   },
   "outputs": [
    {
     "name": "stdout",
     "output_type": "stream",
     "text": [
      "(252780,)\n"
     ]
    }
   ],
   "source": [
    "text_train, text_valid, y_train, y_valid = model_selection.train_test_split(\n",
    "    cln_df.Summary, cln_df.sentiment, test_size=0.2, random_state=1\n",
    ")\n",
    "print(text_train.shape)\n",
    "text_train = text_train[:text_train.shape[0]//2]\n",
    "y_train = y_train[:y_train.shape[0]//2]\n",
    "assert text_train.shape == y_train.shape"
   ]
  },
  {
   "cell_type": "markdown",
   "id": "z40d--nozmrq",
   "metadata": {
    "id": "z40d--nozmrq"
   },
   "source": [
    "> Due to computing time, I used half of the training set for training."
   ]
  },
  {
   "cell_type": "code",
   "execution_count": 15,
   "id": "YoqlDhEsqLJj",
   "metadata": {
    "colab": {
     "base_uri": "https://localhost:8080/",
     "height": 145,
     "referenced_widgets": [
      "5b9568905bfb4a4baa4f529773b3b6dc",
      "b357992b03304d878492c0039c1ce087",
      "6e9acefd0e37441a8d72945450ac5885",
      "b422cd3d459644aab9d7b9af21061fc8",
      "c8b4e405681f450e85a07952340a4099",
      "8f7992c190e0443b92466d9288a853b2",
      "20bd7cee9b194ec19a1be82fb992f98c",
      "030fac90f4b94198979173a7ed3409df",
      "862145a3c73c4412b740c354465d8d5e",
      "c125679c1d0244e4afb9bf87a0c4cb75",
      "bfc57de3a1834920a9eb6b5cd65bfb4d",
      "63d5ac8f813647beb79517c316dddab6",
      "9f2a3d26dee041dcac78030198523673",
      "fd15c82e7cd745518cf47d40643a6f9e",
      "49d7706145444942b5a2fdf037a4ffb3",
      "dfc7b70aa8654e66af7dde24ff68ab51",
      "61f5385d1ce54509ae15dec88b56e0fe",
      "965ef21512304ea1b7e2e66f0e24c009",
      "efaf2022756a4e5980a90b53833e5eb7",
      "fc63b5c50b464ba2a4ec8310fc111c8e",
      "7799a38fb39f428fa49e16d9d954b85c",
      "4969d66492f54b058c8609c2205bcb8d",
      "7dd0b1546afd4626b6e8a3c17223cbbd",
      "99de1288c0c14e98bcd78e6d10ff0ade",
      "a5d726d26de34f9092fc04d44410384c",
      "19c7beec77b2430495d98a24c8fdacc4",
      "23b8c027c4bb4bffaa23c6592adc0079",
      "5cc365eaa26b40a8a6e1ab4c39a07239",
      "7e8c17df26b9437c866d6c4d4ebdb2cb",
      "d264e1fd493c4135b0bebff97f907ec5",
      "74c42493c80a4710a0ed169302ebb4ac",
      "7e567be1fe024a9390d71f6b8985ce40",
      "c2032006400c49a58962a60b10960b33",
      "eb55f2ed22334e4db3e958a796352ffb",
      "2671314e816a482e98b4bd6ac653bee9",
      "83ae4cd7e6b1401593110e988dd4baf0",
      "732c176b2baa484d96b44d7eab9d60e0",
      "9940a9ea883f41b2a5fad458adb3ab64",
      "aecadf89d13d4e17a41145a1024cf66a",
      "019b9f0e3b834d9990bc711389383fbd",
      "17e7016dc3c84d72a509a9667ebd9e23",
      "15ed61f8d3024b63b416d2da26c9a3d7",
      "680684777755477f93132aa7781e49f2",
      "0e3ac5d9ccf846c090e45be0f7d0b552"
     ]
    },
    "id": "YoqlDhEsqLJj",
    "outputId": "bb02df55-68cb-405a-801d-4e1642d3e848"
   },
   "outputs": [],
   "source": [
    "model_name = 'distilbert-base-uncased'\n",
    "tokenizer = DistilBertTokenizerFast.from_pretrained('distilbert-base-uncased',num_labels=3)\n",
    "train_encodings = tokenizer(text_train.values.tolist(), truncation=True, padding=True,return_tensors = 'pt') # Tokenize the summaries\n",
    "valid_encodings = tokenizer(text_valid.values.tolist(), truncation=True, padding=True,return_tensors = 'pt')\n",
    "test_encodings = tokenizer(cln_test_df[\"Summary\"].values.tolist(),truncation=True, padding=True,return_tensors = 'pt')\n",
    "\n",
    "train_dataset = SentimentDataset(train_encodings, y_train.values.tolist())\n",
    "valid_dataset = SentimentDataset(valid_encodings, y_valid.values.tolist())\n",
    "test_dataset = SentimentDataset(test_encodings,cln_test_df[\"sentiment\"].values.tolist())"
   ]
  },
  {
   "cell_type": "code",
   "execution_count": 16,
   "id": "d7PDWx1VslzL",
   "metadata": {
    "id": "d7PDWx1VslzL"
   },
   "outputs": [],
   "source": [
    "training_args = TrainingArguments(\n",
    "    output_dir=RES / \"m1\",          # output directory\n",
    "    evaluation_strategy=\"steps\",\n",
    "    num_train_epochs=1,              # total number of training epochs\n",
    "    per_device_train_batch_size=64,  # batch size per device during training\n",
    "    per_device_eval_batch_size=128,   # batch size for evaluation\n",
    "    warmup_steps=500,                # number of warmup steps for learning rate scheduler\n",
    "    weight_decay=0.01,               # strength of weight decay\n",
    "    logging_dir='./logs4',            # directory for storing logs\n",
    "    #logging_steps=10,\n",
    "    load_best_model_at_end=True,\n",
    ")\n",
    "\n",
    "from sklearn.metrics import accuracy_score, f1_score\n",
    "def compute_metrics(p):\n",
    "    pred, labels = p\n",
    "    pred = np.argmax(pred, axis=1)\n",
    "\n",
    "    accuracy = accuracy_score(y_true=labels, y_pred=pred)\n",
    "    #recall = recall_score(y_true=labels, y_pred=pred)\n",
    "    #precision = precision_score(y_true=labels, y_pred=pred)\n",
    "    f1 = f1_score(labels, pred, average='weighted')\n",
    "\n",
    "    return {\"accuracy\": accuracy,\"f1_score\":f1}"
   ]
  },
  {
   "cell_type": "code",
   "execution_count": 17,
   "id": "eMvVKdbBw-Fh",
   "metadata": {
    "colab": {
     "base_uri": "https://localhost:8080/",
     "height": 897,
     "referenced_widgets": [
      "587178ef97de492b9e213bcc71c9caf1",
      "e8e208a70e714822adcbce352dd47d33",
      "988a57cca00a40abaf84a9e78dd1f178",
      "e146024a0c05436eaf51f24259670bf3",
      "9698c6c2375446b0bdc5eebb8767723f",
      "001cf98d4da74ffb8b4d6f296b8171f5",
      "376c461b7b144e53ba5ff16b52149505",
      "52c0a09310fa4da78f043df4fb1228bc",
      "bea8d484ceaa4d838de16e14f1b2563a",
      "c1fb3a16e26b490baa03f9b1d5037449",
      "636797697fb64d8c8c48426c994b8e51"
     ]
    },
    "id": "eMvVKdbBw-Fh",
    "outputId": "b1f0ceba-a0fb-47eb-eb17-ce8a60f15b6f"
   },
   "outputs": [
    {
     "data": {
      "application/vnd.jupyter.widget-view+json": {
       "model_id": "587178ef97de492b9e213bcc71c9caf1",
       "version_major": 2,
       "version_minor": 0
      },
      "text/plain": [
       "Downloading:   0%|          | 0.00/256M [00:00<?, ?B/s]"
      ]
     },
     "metadata": {},
     "output_type": "display_data"
    },
    {
     "name": "stderr",
     "output_type": "stream",
     "text": [
      "Some weights of the model checkpoint at distilbert-base-uncased were not used when initializing DistilBertForSequenceClassification: ['vocab_transform.weight', 'vocab_projector.weight', 'vocab_layer_norm.bias', 'vocab_transform.bias', 'vocab_projector.bias', 'vocab_layer_norm.weight']\n",
      "- This IS expected if you are initializing DistilBertForSequenceClassification from the checkpoint of a model trained on another task or with another architecture (e.g. initializing a BertForSequenceClassification model from a BertForPreTraining model).\n",
      "- This IS NOT expected if you are initializing DistilBertForSequenceClassification from the checkpoint of a model that you expect to be exactly identical (initializing a BertForSequenceClassification model from a BertForSequenceClassification model).\n",
      "Some weights of DistilBertForSequenceClassification were not initialized from the model checkpoint at distilbert-base-uncased and are newly initialized: ['pre_classifier.weight', 'classifier.weight', 'classifier.bias', 'pre_classifier.bias']\n",
      "You should probably TRAIN this model on a down-stream task to be able to use it for predictions and inference.\n",
      "***** Running training *****\n",
      "  Num examples = 126390\n",
      "  Num Epochs = 1\n",
      "  Instantaneous batch size per device = 64\n",
      "  Total train batch size (w. parallel, distributed & accumulation) = 64\n",
      "  Gradient Accumulation steps = 1\n",
      "  Total optimization steps = 1975\n"
     ]
    },
    {
     "data": {
      "text/html": [
       "\n",
       "    <div>\n",
       "      \n",
       "      <progress value='1975' max='1975' style='width:300px; height:20px; vertical-align: middle;'></progress>\n",
       "      [1975/1975 39:44, Epoch 1/1]\n",
       "    </div>\n",
       "    <table border=\"1\" class=\"dataframe\">\n",
       "  <thead>\n",
       " <tr style=\"text-align: left;\">\n",
       "      <th>Step</th>\n",
       "      <th>Training Loss</th>\n",
       "      <th>Validation Loss</th>\n",
       "      <th>Accuracy</th>\n",
       "      <th>F1 Score</th>\n",
       "    </tr>\n",
       "  </thead>\n",
       "  <tbody>\n",
       "    <tr>\n",
       "      <td>500</td>\n",
       "      <td>0.500100</td>\n",
       "      <td>0.353636</td>\n",
       "      <td>0.871271</td>\n",
       "      <td>0.856217</td>\n",
       "    </tr>\n",
       "    <tr>\n",
       "      <td>1000</td>\n",
       "      <td>0.361800</td>\n",
       "      <td>0.341152</td>\n",
       "      <td>0.876145</td>\n",
       "      <td>0.864513</td>\n",
       "    </tr>\n",
       "    <tr>\n",
       "      <td>1500</td>\n",
       "      <td>0.341400</td>\n",
       "      <td>0.324620</td>\n",
       "      <td>0.882538</td>\n",
       "      <td>0.867999</td>\n",
       "    </tr>\n",
       "  </tbody>\n",
       "</table><p>"
      ],
      "text/plain": [
       "<IPython.core.display.HTML object>"
      ]
     },
     "metadata": {},
     "output_type": "display_data"
    },
    {
     "name": "stderr",
     "output_type": "stream",
     "text": [
      "***** Running Evaluation *****\n",
      "  Num examples = 63195\n",
      "  Batch size = 128\n",
      "Saving model checkpoint to drive/My Drive/res/m1/checkpoint-500\n",
      "Configuration saved in drive/My Drive/M1/res/m1/checkpoint-500/config.json\n",
      "Model weights saved in drive/My Drive/M1/res/m1/checkpoint-500/pytorch_model.bin\n",
      "***** Running Evaluation *****\n",
      "  Num examples = 63195\n",
      "  Batch size = 128\n",
      "Saving model checkpoint to drive/My Drive/res/m1/checkpoint-1000\n",
      "Configuration saved in drive/My Drive/res/m1/checkpoint-1000/config.json\n",
      "Model weights saved in drive/My Drive/res/m1/checkpoint-1000/pytorch_model.bin\n",
      "***** Running Evaluation *****\n",
      "  Num examples = 63195\n",
      "  Batch size = 128\n",
      "Saving model checkpoint to drive/My Drive/res/m1/checkpoint-1500\n",
      "Configuration saved in drive/My Drive/res/m1/checkpoint-1500/config.json\n",
      "Model weights saved in drive/My Drive/res/m1/checkpoint-1500/pytorch_model.bin\n",
      "\n",
      "\n",
      "Training completed. Do not forget to share your model on huggingface.co/models =)\n",
      "\n",
      "\n",
      "Loading best model from drive/My Drive/res/m1/checkpoint-1500 (score: 0.32461971044540405).\n"
     ]
    },
    {
     "data": {
      "text/plain": [
       "TrainOutput(global_step=1975, training_loss=0.38398104510729825, metrics={'train_runtime': 2385.8542, 'train_samples_per_second': 52.975, 'train_steps_per_second': 0.828, 'total_flos': 2550669026316840.0, 'train_loss': 0.38398104510729825, 'epoch': 1.0})"
      ]
     },
     "execution_count": 17,
     "metadata": {},
     "output_type": "execute_result"
    }
   ],
   "source": [
    "import warnings\n",
    "warnings.filterwarnings('ignore')\n",
    "device = \"cuda:0\" if torch.cuda.is_available() else \"cpu\"\n",
    "\n",
    "model = DistilBertForSequenceClassification.from_pretrained(model_name,num_labels=3)\n",
    "model = model.to(device)\n",
    "\n",
    "trainer = Trainer(\n",
    "    model=model,# the instantiated 🤗 Transformers model to be trained\n",
    "    args=training_args, # training arguments, defined above\n",
    "    train_dataset=train_dataset,# training dataset\n",
    "    eval_dataset=valid_dataset , # evaluation dataset\n",
    "    compute_metrics=compute_metrics,\n",
    ")\n",
    "trainer.train()"
   ]
  },
  {
   "cell_type": "code",
   "execution_count": 18,
   "id": "UiXVKFwoZskk",
   "metadata": {
    "colab": {
     "base_uri": "https://localhost:8080/",
     "height": 571
    },
    "id": "UiXVKFwoZskk",
    "outputId": "4af6c8f0-5936-40db-d1d1-770c2436f8d7"
   },
   "outputs": [
    {
     "name": "stderr",
     "output_type": "stream",
     "text": [
      "***** Running Prediction *****\n",
      "  Num examples = 78992\n",
      "  Batch size = 128\n"
     ]
    },
    {
     "data": {
      "text/html": [
       "\n",
       "    <div>\n",
       "      \n",
       "      <progress value='618' max='618' style='width:300px; height:20px; vertical-align: middle;'></progress>\n",
       "      [618/618 05:15]\n",
       "    </div>\n",
       "    "
      ],
      "text/plain": [
       "<IPython.core.display.HTML object>"
      ]
     },
     "metadata": {},
     "output_type": "display_data"
    },
    {
     "name": "stdout",
     "output_type": "stream",
     "text": [
      "              precision    recall  f1-score   support\n",
      "\n",
      "           0     0.7156    0.7672    0.7405     11591\n",
      "           1     0.5840    0.1990    0.2969      5954\n",
      "           2     0.9200    0.9662    0.9425     61447\n",
      "\n",
      "    accuracy                         0.8792     78992\n",
      "   macro avg     0.7399    0.6442    0.6600     78992\n",
      "weighted avg     0.8647    0.8792    0.8642     78992\n",
      "\n"
     ]
    },
    {
     "data": {
      "image/png": "[encoded data removed]",
      "text/plain": [
       "<Figure size 432x288 with 2 Axes>"
      ]
     },
     "metadata": {
      "image/png": {
       "height": 296,
       "width": 336
      }
     },
     "output_type": "display_data"
    }
   ],
   "source": [
    "preds = trainer.predict(test_dataset=test_dataset)\n",
    "\n",
    "probs = torch.from_numpy(preds[0]).softmax(1) # Retrieving the probabilities\n",
    "\n",
    "predictions = np.argmax(probs.numpy(),axis=1)\n",
    "\n",
    "print(metrics.classification_report(cln_test_df[\"sentiment\"].values,predictions,digits=4))\n",
    "\n",
    "disp = metrics.ConfusionMatrixDisplay.from_predictions(\n",
    "    cln_test_df[\"sentiment\"].values,predictions, cmap=plt.cm.Blues\n",
    ")\n",
    "disp.figure_.suptitle(\"Confusion Matrix\")\n",
    "plt.grid(False)\n",
    "plt.show()"
   ]
  },
  {
   "cell_type": "markdown",
   "id": "OWfDV3oFk8dT",
   "metadata": {
    "id": "OWfDV3oFk8dT"
   },
   "source": [
    "> For the first time, we have quite good result despite not fine-tuning that much BERT.\n",
    "The parameters used to fine-tune were :\n",
    "```\n",
    "num_train_epochs=3,              \n",
    "per_device_train_batch_size=32, \n",
    "per_device_eval_batch_size=64,\n",
    "```\n",
    "However, I cancelled the training at the middle of the first iteration and saved the parameters. The reason I did that is:\n",
    "* It would be too long to do all the training.\n",
    "* We had good results.\n",
    "\n",
    "> In this version, I reduced the number of epoch for the training and increased the last 2 parameters.\n",
    "\n",
    "> Despite using ```Summary```  that contains a few data, we have pretty good result. The usage of some kind of words would help a lot when classifying.\n",
    "The class 1 is often misclassified compared to the 2 others. It might be because those summaries, unlike the 2 other classes, use a neutral vocabulary. Hence, the bad result, which is not that unexpected. Maybe the use of ```Text``` will yield better result."
   ]
  },
  {
   "cell_type": "markdown",
   "id": "bba585a8-f57d-4e50-ab91-b126a91026d4",
   "metadata": {
    "id": "bba585a8-f57d-4e50-ab91-b126a91026d4"
   },
   "source": [
    "## Baseline Model with `Text` Reviews"
   ]
  },
  {
   "cell_type": "code",
   "execution_count": 19,
   "id": "80701c9a-681d-49ac-9b48-8de0ad4e9708",
   "metadata": {
    "id": "80701c9a-681d-49ac-9b48-8de0ad4e9708"
   },
   "outputs": [],
   "source": [
    "cln_df = train_df[[\"Text\", \"sentiment\"]].copy()\n",
    "cln_df.dropna(subset=[\"Text\"], inplace=True)\n",
    "\n",
    "cln_test_df = test_df[[\"Text\", \"sentiment\"]].copy()\n",
    "cln_test_df.dropna(subset=[\"Text\"], inplace=True)\n",
    "cln_test_df = cln_test_df.head(cln_test_df.shape[0]//20)"
   ]
  },
  {
   "cell_type": "markdown",
   "id": "9266fb7b-da02-4081-b065-6c4d7a615226",
   "metadata": {
    "id": "9266fb7b-da02-4081-b065-6c4d7a615226"
   },
   "source": [
    "Split the data into train (80%) and validation sets (20%)"
   ]
  },
  {
   "cell_type": "code",
   "execution_count": 20,
   "id": "06366857-9e5e-458b-a6ba-ca2c9c9bd1a8",
   "metadata": {
    "colab": {
     "base_uri": "https://localhost:8080/"
    },
    "id": "06366857-9e5e-458b-a6ba-ca2c9c9bd1a8",
    "outputId": "599b9650-ac00-4628-94fd-351d14cf3fd3"
   },
   "outputs": [
    {
     "data": {
      "text/plain": [
       "((3949, 2), (6319,))"
      ]
     },
     "execution_count": 20,
     "metadata": {},
     "output_type": "execute_result"
    }
   ],
   "source": [
    "text_train, text_valid, y_train, y_valid = model_selection.train_test_split(\n",
    "    cln_df.Text, cln_df.sentiment, test_size=0.2, random_state=1\n",
    ")\n",
    "text_train = text_train[:text_train.shape[0]//40]\n",
    "y_train = y_train[:y_train.shape[0]//40]\n",
    "assert text_train.shape == y_train.shape\n",
    "cln_test_df.shape,y_train.shape"
   ]
  },
  {
   "cell_type": "markdown",
   "id": "kL1Uxm07w1Yf",
   "metadata": {
    "id": "kL1Uxm07w1Yf"
   },
   "source": [
    "Due to computing time, I used a very low amount of data for training.\n",
    "What I want to see is what results BERT will give with lightly fine-tuned parameters.\n",
    "Then, it will be interesting to see how BERT do with:\n",
    "* more data\n",
    "* longer training"
   ]
  },
  {
   "cell_type": "code",
   "execution_count": 21,
   "id": "AzJCvvJ1oW-2",
   "metadata": {
    "colab": {
     "base_uri": "https://localhost:8080/"
    },
    "id": "AzJCvvJ1oW-2",
    "outputId": "af5350e1-d26f-41dc-e261-d717569ccee6"
   },
   "outputs": [
    {
     "name": "stderr",
     "output_type": "stream",
     "text": [
      "loading file https://huggingface.co/distilbert-base-uncased/resolve/main/vocab.txt from cache at /root/.cache/huggingface/transformers/0e1bbfda7f63a99bb52e3915dcf10c3c92122b827d92eb2d34ce94ee79ba486c.d789d64ebfe299b0e416afc4a169632f903f693095b4629a7ea271d5a0cf2c99\n",
      "loading file https://huggingface.co/distilbert-base-uncased/resolve/main/tokenizer.json from cache at /root/.cache/huggingface/transformers/75abb59d7a06f4f640158a9bfcde005264e59e8d566781ab1415b139d2e4c603.7f2721073f19841be16f41b0a70b600ca6b880c8f3df6f3535cbc704371bdfa4\n",
      "loading file https://huggingface.co/distilbert-base-uncased/resolve/main/added_tokens.json from cache at None\n",
      "loading file https://huggingface.co/distilbert-base-uncased/resolve/main/special_tokens_map.json from cache at None\n",
      "loading file https://huggingface.co/distilbert-base-uncased/resolve/main/tokenizer_config.json from cache at /root/.cache/huggingface/transformers/8c8624b8ac8aa99c60c912161f8332de003484428c47906d7ff7eb7f73eecdbb.20430bd8e10ef77a7d2977accefe796051e01bc2fc4aa146bc862997a1a15e79\n",
      "loading configuration file https://huggingface.co/distilbert-base-uncased/resolve/main/config.json from cache at /root/.cache/huggingface/transformers/23454919702d26495337f3da04d1655c7ee010d5ec9d77bdb9e399e00302c0a1.91b885ab15d631bf9cee9dc9d25ece0afd932f2f5130eba28f2055b2220c0333\n",
      "Model config DistilBertConfig {\n",
      "  \"_name_or_path\": \"distilbert-base-uncased\",\n",
      "  \"activation\": \"gelu\",\n",
      "  \"architectures\": [\n",
      "    \"DistilBertForMaskedLM\"\n",
      "  ],\n",
      "  \"attention_dropout\": 0.1,\n",
      "  \"dim\": 768,\n",
      "  \"dropout\": 0.1,\n",
      "  \"hidden_dim\": 3072,\n",
      "  \"initializer_range\": 0.02,\n",
      "  \"max_position_embeddings\": 512,\n",
      "  \"model_type\": \"distilbert\",\n",
      "  \"n_heads\": 12,\n",
      "  \"n_layers\": 6,\n",
      "  \"pad_token_id\": 0,\n",
      "  \"qa_dropout\": 0.1,\n",
      "  \"seq_classif_dropout\": 0.2,\n",
      "  \"sinusoidal_pos_embds\": false,\n",
      "  \"tie_weights_\": true,\n",
      "  \"transformers_version\": \"4.16.2\",\n",
      "  \"vocab_size\": 30522\n",
      "}\n",
      "\n"
     ]
    }
   ],
   "source": [
    "model_name = 'distilbert-base-uncased'\n",
    "tokenizer = DistilBertTokenizerFast.from_pretrained('distilbert-base-uncased',num_labels=3)\n",
    "train_encodings = tokenizer(text_train.values.tolist(), truncation=True, padding=True,return_tensors = 'pt')\n",
    "valid_encodings = tokenizer(text_valid.values.tolist(), truncation=True, padding=True,return_tensors = 'pt')\n",
    "test_encodings = tokenizer(cln_test_df[\"Text\"].values.tolist(),truncation=True, padding=True,return_tensors = 'pt')\n",
    "\n",
    "train_dataset = SentimentDataset(train_encodings, y_train.values.tolist())\n",
    "valid_dataset = SentimentDataset(valid_encodings, y_valid.values.tolist())\n",
    "test_dataset = SentimentDataset(test_encodings,cln_test_df[\"sentiment\"].values.tolist())"
   ]
  },
  {
   "cell_type": "code",
   "execution_count": 22,
   "id": "RupLScuOIsVc",
   "metadata": {
    "colab": {
     "base_uri": "https://localhost:8080/"
    },
    "id": "RupLScuOIsVc",
    "outputId": "16ff68aa-8d1b-44ad-f60d-4469a394f413"
   },
   "outputs": [
    {
     "name": "stderr",
     "output_type": "stream",
     "text": [
      "using `logging_steps` to initialize `eval_steps` to 500\n",
      "PyTorch: setting up devices\n",
      "The default value for the training argument `--report_to` will change in v5 (from all installed integrations to none). In v5, you will need to use `--report_to all` to get the same behavior as now. You should start updating your code and make this info disappear :-).\n"
     ]
    }
   ],
   "source": [
    "training_args = TrainingArguments(\n",
    "    output_dir=RES / \"m2\",    \n",
    "    evaluation_strategy=\"steps\",\n",
    "    num_train_epochs=1,          \n",
    "    per_device_train_batch_size=12,  \n",
    "    per_device_eval_batch_size=64,   \n",
    "    warmup_steps=500,               \n",
    "    weight_decay=0.01,            \n",
    "    logging_dir='./logs4',          \n",
    "    #logging_steps=10,\n",
    "    load_best_model_at_end=True,\n",
    ")"
   ]
  },
  {
   "cell_type": "code",
   "execution_count": 23,
   "id": "octKdRQiIyFO",
   "metadata": {
    "colab": {
     "base_uri": "https://localhost:8080/",
     "height": 1000
    },
    "id": "octKdRQiIyFO",
    "outputId": "d9034dc8-37d5-44aa-bced-413ebcdd46e5"
   },
   "outputs": [
    {
     "name": "stderr",
     "output_type": "stream",
     "text": [
      "loading configuration file https://huggingface.co/distilbert-base-uncased/resolve/main/config.json from cache at /root/.cache/huggingface/transformers/23454919702d26495337f3da04d1655c7ee010d5ec9d77bdb9e399e00302c0a1.91b885ab15d631bf9cee9dc9d25ece0afd932f2f5130eba28f2055b2220c0333\n",
      "Model config DistilBertConfig {\n",
      "  \"activation\": \"gelu\",\n",
      "  \"architectures\": [\n",
      "    \"DistilBertForMaskedLM\"\n",
      "  ],\n",
      "  \"attention_dropout\": 0.1,\n",
      "  \"dim\": 768,\n",
      "  \"dropout\": 0.1,\n",
      "  \"hidden_dim\": 3072,\n",
      "  \"id2label\": {\n",
      "    \"0\": \"LABEL_0\",\n",
      "    \"1\": \"LABEL_1\",\n",
      "    \"2\": \"LABEL_2\"\n",
      "  },\n",
      "  \"initializer_range\": 0.02,\n",
      "  \"label2id\": {\n",
      "    \"LABEL_0\": 0,\n",
      "    \"LABEL_1\": 1,\n",
      "    \"LABEL_2\": 2\n",
      "  },\n",
      "  \"max_position_embeddings\": 512,\n",
      "  \"model_type\": \"distilbert\",\n",
      "  \"n_heads\": 12,\n",
      "  \"n_layers\": 6,\n",
      "  \"pad_token_id\": 0,\n",
      "  \"qa_dropout\": 0.1,\n",
      "  \"seq_classif_dropout\": 0.2,\n",
      "  \"sinusoidal_pos_embds\": false,\n",
      "  \"tie_weights_\": true,\n",
      "  \"transformers_version\": \"4.16.2\",\n",
      "  \"vocab_size\": 30522\n",
      "}\n",
      "\n",
      "loading weights file https://huggingface.co/distilbert-base-uncased/resolve/main/pytorch_model.bin from cache at /root/.cache/huggingface/transformers/9c169103d7e5a73936dd2b627e42851bec0831212b677c637033ee4bce9ab5ee.126183e36667471617ae2f0835fab707baa54b731f991507ebbb55ea85adb12a\n",
      "Some weights of the model checkpoint at distilbert-base-uncased were not used when initializing DistilBertForSequenceClassification: ['vocab_transform.weight', 'vocab_projector.weight', 'vocab_layer_norm.bias', 'vocab_transform.bias', 'vocab_projector.bias', 'vocab_layer_norm.weight']\n",
      "- This IS expected if you are initializing DistilBertForSequenceClassification from the checkpoint of a model trained on another task or with another architecture (e.g. initializing a BertForSequenceClassification model from a BertForPreTraining model).\n",
      "- This IS NOT expected if you are initializing DistilBertForSequenceClassification from the checkpoint of a model that you expect to be exactly identical (initializing a BertForSequenceClassification model from a BertForSequenceClassification model).\n",
      "Some weights of DistilBertForSequenceClassification were not initialized from the model checkpoint at distilbert-base-uncased and are newly initialized: ['pre_classifier.weight', 'classifier.weight', 'classifier.bias', 'pre_classifier.bias']\n",
      "You should probably TRAIN this model on a down-stream task to be able to use it for predictions and inference.\n",
      "***** Running training *****\n",
      "  Num examples = 6319\n",
      "  Num Epochs = 1\n",
      "  Instantaneous batch size per device = 12\n",
      "  Total train batch size (w. parallel, distributed & accumulation) = 12\n",
      "  Gradient Accumulation steps = 1\n",
      "  Total optimization steps = 527\n"
     ]
    },
    {
     "data": {
      "text/html": [
       "\n",
       "    <div>\n",
       "      \n",
       "      <progress value='527' max='527' style='width:300px; height:20px; vertical-align: middle;'></progress>\n",
       "      [527/527 43:23, Epoch 1/1]\n",
       "    </div>\n",
       "    <table border=\"1\" class=\"dataframe\">\n",
       "  <thead>\n",
       " <tr style=\"text-align: left;\">\n",
       "      <th>Step</th>\n",
       "      <th>Training Loss</th>\n",
       "      <th>Validation Loss</th>\n",
       "      <th>Accuracy</th>\n",
       "      <th>F1 Score</th>\n",
       "    </tr>\n",
       "  </thead>\n",
       "  <tbody>\n",
       "    <tr>\n",
       "      <td>500</td>\n",
       "      <td>0.524300</td>\n",
       "      <td>0.456651</td>\n",
       "      <td>0.822489</td>\n",
       "      <td>0.823388</td>\n",
       "    </tr>\n",
       "  </tbody>\n",
       "</table><p>"
      ],
      "text/plain": [
       "<IPython.core.display.HTML object>"
      ]
     },
     "metadata": {},
     "output_type": "display_data"
    },
    {
     "name": "stderr",
     "output_type": "stream",
     "text": [
      "***** Running Evaluation *****\n",
      "  Num examples = 63196\n",
      "  Batch size = 64\n",
      "Saving model checkpoint to drive/My Drive//res/m2/checkpoint-500\n",
      "Configuration saved in drive/My Drive/res/m2/checkpoint-500/config.json\n",
      "Model weights saved in drive/My Drive/res/m2/checkpoint-500/pytorch_model.bin\n",
      "\n",
      "\n",
      "Training completed. Do not forget to share your model on huggingface.co/models =)\n",
      "\n",
      "\n",
      "Loading best model from drive/My Drive/res/m2/checkpoint-500 (score: 0.4566509425640106).\n"
     ]
    },
    {
     "data": {
      "text/plain": [
       "TrainOutput(global_step=527, training_loss=0.5189692499063047, metrics={'train_runtime': 2604.407, 'train_samples_per_second': 2.426, 'train_steps_per_second': 0.202, 'total_flos': 837076419910656.0, 'train_loss': 0.5189692499063047, 'epoch': 1.0})"
      ]
     },
     "execution_count": 23,
     "metadata": {},
     "output_type": "execute_result"
    }
   ],
   "source": [
    "import gc\n",
    "model = None\n",
    "gc.collect()\n",
    "torch.cuda.empty_cache()\n",
    "\n",
    "device = \"cuda:0\" if torch.cuda.is_available() else \"cpu\"\n",
    "\n",
    "torch.cuda.empty_cache()\n",
    "model = DistilBertForSequenceClassification.from_pretrained(model_name,num_labels=3)\n",
    "model = model.to(device)\n",
    "\n",
    "trainer = Trainer(\n",
    "    model=model,\n",
    "    args=training_args, \n",
    "    train_dataset=train_dataset,\n",
    "    eval_dataset=valid_dataset , \n",
    "    compute_metrics=compute_metrics,\n",
    ")\n",
    "trainer.train()"
   ]
  },
  {
   "cell_type": "markdown",
   "id": "p_F1C9WE3pxk",
   "metadata": {
    "id": "p_F1C9WE3pxk"
   },
   "source": [
    "> Here, I end up with lower result than before. It was excepted as I used less data for training. But we still got good results.\n",
    "\n",
    "Let's see our result on the (reduced) test set:"
   ]
  },
  {
   "cell_type": "code",
   "execution_count": 24,
   "id": "qfHdRsttI3qA",
   "metadata": {
    "colab": {
     "base_uri": "https://localhost:8080/",
     "height": 571
    },
    "id": "qfHdRsttI3qA",
    "outputId": "a7ff6273-8139-4db3-ee7c-9ad506d273e5"
   },
   "outputs": [
    {
     "name": "stderr",
     "output_type": "stream",
     "text": [
      "***** Running Prediction *****\n",
      "  Num examples = 3949\n",
      "  Batch size = 64\n"
     ]
    },
    {
     "data": {
      "text/html": [
       "\n",
       "    <div>\n",
       "      \n",
       "      <progress value='62' max='62' style='width:300px; height:20px; vertical-align: middle;'></progress>\n",
       "      [62/62 02:05]\n",
       "    </div>\n",
       "    "
      ],
      "text/plain": [
       "<IPython.core.display.HTML object>"
      ]
     },
     "metadata": {},
     "output_type": "display_data"
    },
    {
     "name": "stdout",
     "output_type": "stream",
     "text": [
      "              precision    recall  f1-score   support\n",
      "\n",
      "           0     0.5537    0.8433    0.6685       587\n",
      "           1     0.2679    0.1772    0.2133       316\n",
      "           2     0.9396    0.8779    0.9077      3046\n",
      "\n",
      "    accuracy                         0.8167      3949\n",
      "   macro avg     0.5871    0.6328    0.5965      3949\n",
      "weighted avg     0.8285    0.8167    0.8166      3949\n",
      "\n"
     ]
    },
    {
     "data": {
      "image/png": "[encoded data removed]",
      "text/plain": [
       "<Figure size 432x288 with 2 Axes>"
      ]
     },
     "metadata": {
      "image/png": {
       "height": 296,
       "width": 329
      }
     },
     "output_type": "display_data"
    }
   ],
   "source": [
    "preds = trainer.predict(test_dataset=test_dataset)\n",
    "\n",
    "probs = torch.from_numpy(preds[0]).softmax(1)\n",
    "\n",
    "predictions = np.argmax(probs.numpy(),axis=1)\n",
    "\n",
    "print(metrics.classification_report(cln_test_df[\"sentiment\"].values,predictions,digits=4))\n",
    "\n",
    "disp = metrics.ConfusionMatrixDisplay.from_predictions(\n",
    "    cln_test_df[\"sentiment\"].values,predictions, cmap=plt.cm.Blues\n",
    ")\n",
    "disp.figure_.suptitle(\"Confusion Matrix\")\n",
    "plt.grid(False)\n",
    "plt.show()"
   ]
  },
  {
   "cell_type": "markdown",
   "id": "TIoDfKEC4KXq",
   "metadata": {
    "id": "TIoDfKEC4KXq"
   },
   "source": [
    "Results are good but the size of the data is too low to draw a definite conclusion.\n",
    "\n",
    "I am going to do a longer training to avoid the notebook crashing with too much data."
   ]
  },
  {
   "cell_type": "code",
   "execution_count": 25,
   "id": "Ru3C9xJF4Xwm",
   "metadata": {
    "colab": {
     "base_uri": "https://localhost:8080/"
    },
    "id": "Ru3C9xJF4Xwm",
    "outputId": "5f4e0d55-acce-4e80-e042-4bdd421fe0ea"
   },
   "outputs": [
    {
     "name": "stderr",
     "output_type": "stream",
     "text": [
      "loading file https://huggingface.co/distilbert-base-uncased/resolve/main/vocab.txt from cache at /root/.cache/huggingface/transformers/0e1bbfda7f63a99bb52e3915dcf10c3c92122b827d92eb2d34ce94ee79ba486c.d789d64ebfe299b0e416afc4a169632f903f693095b4629a7ea271d5a0cf2c99\n",
      "loading file https://huggingface.co/distilbert-base-uncased/resolve/main/tokenizer.json from cache at /root/.cache/huggingface/transformers/75abb59d7a06f4f640158a9bfcde005264e59e8d566781ab1415b139d2e4c603.7f2721073f19841be16f41b0a70b600ca6b880c8f3df6f3535cbc704371bdfa4\n",
      "loading file https://huggingface.co/distilbert-base-uncased/resolve/main/added_tokens.json from cache at None\n",
      "loading file https://huggingface.co/distilbert-base-uncased/resolve/main/special_tokens_map.json from cache at None\n",
      "loading file https://huggingface.co/distilbert-base-uncased/resolve/main/tokenizer_config.json from cache at /root/.cache/huggingface/transformers/8c8624b8ac8aa99c60c912161f8332de003484428c47906d7ff7eb7f73eecdbb.20430bd8e10ef77a7d2977accefe796051e01bc2fc4aa146bc862997a1a15e79\n",
      "loading configuration file https://huggingface.co/distilbert-base-uncased/resolve/main/config.json from cache at /root/.cache/huggingface/transformers/23454919702d26495337f3da04d1655c7ee010d5ec9d77bdb9e399e00302c0a1.91b885ab15d631bf9cee9dc9d25ece0afd932f2f5130eba28f2055b2220c0333\n",
      "Model config DistilBertConfig {\n",
      "  \"_name_or_path\": \"distilbert-base-uncased\",\n",
      "  \"activation\": \"gelu\",\n",
      "  \"architectures\": [\n",
      "    \"DistilBertForMaskedLM\"\n",
      "  ],\n",
      "  \"attention_dropout\": 0.1,\n",
      "  \"dim\": 768,\n",
      "  \"dropout\": 0.1,\n",
      "  \"hidden_dim\": 3072,\n",
      "  \"initializer_range\": 0.02,\n",
      "  \"max_position_embeddings\": 512,\n",
      "  \"model_type\": \"distilbert\",\n",
      "  \"n_heads\": 12,\n",
      "  \"n_layers\": 6,\n",
      "  \"pad_token_id\": 0,\n",
      "  \"qa_dropout\": 0.1,\n",
      "  \"seq_classif_dropout\": 0.2,\n",
      "  \"sinusoidal_pos_embds\": false,\n",
      "  \"tie_weights_\": true,\n",
      "  \"transformers_version\": \"4.16.2\",\n",
      "  \"vocab_size\": 30522\n",
      "}\n",
      "\n",
      "using `logging_steps` to initialize `eval_steps` to 500\n",
      "PyTorch: setting up devices\n",
      "The default value for the training argument `--report_to` will change in v5 (from all installed integrations to none). In v5, you will need to use `--report_to all` to get the same behavior as now. You should start updating your code and make this info disappear :-).\n"
     ]
    },
    {
     "data": {
      "text/plain": [
       "((3949, 2), (6319,))"
      ]
     },
     "execution_count": 25,
     "metadata": {},
     "output_type": "execute_result"
    }
   ],
   "source": [
    "cln_df = train_df[[\"Text\", \"sentiment\"]].copy()\n",
    "cln_df.dropna(subset=[\"Text\"], inplace=True)\n",
    "\n",
    "cln_test_df = test_df[[\"Text\", \"sentiment\"]].copy()\n",
    "cln_test_df.dropna(subset=[\"Text\"], inplace=True)\n",
    "cln_test_df = cln_test_df.head(cln_test_df.shape[0]//20)\n",
    "\n",
    "text_train, text_valid, y_train, y_valid = model_selection.train_test_split(\n",
    "    cln_df.Text, cln_df.sentiment, test_size=0.2, random_state=1\n",
    ")\n",
    "text_train = text_train[:text_train.shape[0]//40]\n",
    "y_train = y_train[:y_train.shape[0]//40]\n",
    "assert text_train.shape == y_train.shape\n",
    "\n",
    "model_name = 'distilbert-base-uncased'\n",
    "tokenizer = DistilBertTokenizerFast.from_pretrained('distilbert-base-uncased',num_labels=3)\n",
    "train_encodings = tokenizer(text_train.values.tolist(), truncation=True, padding=True,return_tensors = 'pt')\n",
    "valid_encodings = tokenizer(text_valid.values.tolist(), truncation=True, padding=True,return_tensors = 'pt')\n",
    "test_encodings = tokenizer(cln_test_df[\"Text\"].values.tolist(),truncation=True, padding=True,return_tensors = 'pt')\n",
    "\n",
    "train_dataset = SentimentDataset(train_encodings, y_train.values.tolist())\n",
    "valid_dataset = SentimentDataset(valid_encodings, y_valid.values.tolist())\n",
    "test_dataset = SentimentDataset(test_encodings,cln_test_df[\"sentiment\"].values.tolist())\n",
    "\n",
    "training_args = TrainingArguments(\n",
    "    output_dir=RES / \"m3\",   \n",
    "    evaluation_strategy=\"steps\",\n",
    "    num_train_epochs=2,    \n",
    "    per_device_train_batch_size=12, \n",
    "    per_device_eval_batch_size=12,  \n",
    "    warmup_steps=500,                \n",
    "    weight_decay=0.01,               \n",
    "    logging_dir='./logs4',            \n",
    "    #logging_steps=10,\n",
    "    load_best_model_at_end=True,\n",
    ")\n",
    "\n",
    "cln_test_df.shape,y_train.shape"
   ]
  },
  {
   "cell_type": "code",
   "execution_count": 26,
   "id": "LGCmXw0C5ZeH",
   "metadata": {
    "colab": {
     "base_uri": "https://localhost:8080/",
     "height": 1000
    },
    "id": "LGCmXw0C5ZeH",
    "outputId": "389b0400-32e5-4637-c59f-98726a0f5c6f"
   },
   "outputs": [
    {
     "name": "stderr",
     "output_type": "stream",
     "text": [
      "loading configuration file https://huggingface.co/distilbert-base-uncased/resolve/main/config.json from cache at /root/.cache/huggingface/transformers/23454919702d26495337f3da04d1655c7ee010d5ec9d77bdb9e399e00302c0a1.91b885ab15d631bf9cee9dc9d25ece0afd932f2f5130eba28f2055b2220c0333\n",
      "Model config DistilBertConfig {\n",
      "  \"activation\": \"gelu\",\n",
      "  \"architectures\": [\n",
      "    \"DistilBertForMaskedLM\"\n",
      "  ],\n",
      "  \"attention_dropout\": 0.1,\n",
      "  \"dim\": 768,\n",
      "  \"dropout\": 0.1,\n",
      "  \"hidden_dim\": 3072,\n",
      "  \"id2label\": {\n",
      "    \"0\": \"LABEL_0\",\n",
      "    \"1\": \"LABEL_1\",\n",
      "    \"2\": \"LABEL_2\"\n",
      "  },\n",
      "  \"initializer_range\": 0.02,\n",
      "  \"label2id\": {\n",
      "    \"LABEL_0\": 0,\n",
      "    \"LABEL_1\": 1,\n",
      "    \"LABEL_2\": 2\n",
      "  },\n",
      "  \"max_position_embeddings\": 512,\n",
      "  \"model_type\": \"distilbert\",\n",
      "  \"n_heads\": 12,\n",
      "  \"n_layers\": 6,\n",
      "  \"pad_token_id\": 0,\n",
      "  \"qa_dropout\": 0.1,\n",
      "  \"seq_classif_dropout\": 0.2,\n",
      "  \"sinusoidal_pos_embds\": false,\n",
      "  \"tie_weights_\": true,\n",
      "  \"transformers_version\": \"4.16.2\",\n",
      "  \"vocab_size\": 30522\n",
      "}\n",
      "\n",
      "loading weights file https://huggingface.co/distilbert-base-uncased/resolve/main/pytorch_model.bin from cache at /root/.cache/huggingface/transformers/9c169103d7e5a73936dd2b627e42851bec0831212b677c637033ee4bce9ab5ee.126183e36667471617ae2f0835fab707baa54b731f991507ebbb55ea85adb12a\n",
      "Some weights of the model checkpoint at distilbert-base-uncased were not used when initializing DistilBertForSequenceClassification: ['vocab_transform.weight', 'vocab_projector.weight', 'vocab_layer_norm.bias', 'vocab_transform.bias', 'vocab_projector.bias', 'vocab_layer_norm.weight']\n",
      "- This IS expected if you are initializing DistilBertForSequenceClassification from the checkpoint of a model trained on another task or with another architecture (e.g. initializing a BertForSequenceClassification model from a BertForPreTraining model).\n",
      "- This IS NOT expected if you are initializing DistilBertForSequenceClassification from the checkpoint of a model that you expect to be exactly identical (initializing a BertForSequenceClassification model from a BertForSequenceClassification model).\n",
      "Some weights of DistilBertForSequenceClassification were not initialized from the model checkpoint at distilbert-base-uncased and are newly initialized: ['pre_classifier.weight', 'classifier.weight', 'classifier.bias', 'pre_classifier.bias']\n",
      "You should probably TRAIN this model on a down-stream task to be able to use it for predictions and inference.\n",
      "***** Running training *****\n",
      "  Num examples = 6319\n",
      "  Num Epochs = 2\n",
      "  Instantaneous batch size per device = 12\n",
      "  Total train batch size (w. parallel, distributed & accumulation) = 12\n",
      "  Gradient Accumulation steps = 1\n",
      "  Total optimization steps = 1054\n"
     ]
    },
    {
     "data": {
      "text/html": [
       "\n",
       "    <div>\n",
       "      \n",
       "      <progress value='1054' max='1054' style='width:300px; height:20px; vertical-align: middle;'></progress>\n",
       "      [1054/1054 1:27:47, Epoch 2/2]\n",
       "    </div>\n",
       "    <table border=\"1\" class=\"dataframe\">\n",
       "  <thead>\n",
       " <tr style=\"text-align: left;\">\n",
       "      <th>Step</th>\n",
       "      <th>Training Loss</th>\n",
       "      <th>Validation Loss</th>\n",
       "      <th>Accuracy</th>\n",
       "      <th>F1 Score</th>\n",
       "    </tr>\n",
       "  </thead>\n",
       "  <tbody>\n",
       "    <tr>\n",
       "      <td>500</td>\n",
       "      <td>0.545100</td>\n",
       "      <td>0.436983</td>\n",
       "      <td>0.843740</td>\n",
       "      <td>0.834553</td>\n",
       "    </tr>\n",
       "    <tr>\n",
       "      <td>1000</td>\n",
       "      <td>0.325000</td>\n",
       "      <td>0.351732</td>\n",
       "      <td>0.877587</td>\n",
       "      <td>0.866538</td>\n",
       "    </tr>\n",
       "  </tbody>\n",
       "</table><p>"
      ],
      "text/plain": [
       "<IPython.core.display.HTML object>"
      ]
     },
     "metadata": {},
     "output_type": "display_data"
    },
    {
     "name": "stderr",
     "output_type": "stream",
     "text": [
      "***** Running Evaluation *****\n",
      "  Num examples = 63196\n",
      "  Batch size = 12\n",
      "Saving model checkpoint to drive/My Drive/res/m3/checkpoint-500\n",
      "Configuration saved in drive/My Drive/res/m3/checkpoint-500/config.json\n",
      "Model weights saved in drive/My Drive/res/m3/checkpoint-500/pytorch_model.bin\n",
      "***** Running Evaluation *****\n",
      "  Num examples = 63196\n",
      "  Batch size = 12\n",
      "Saving model checkpoint to drive/My Drive/res/m3/checkpoint-1000\n",
      "Configuration saved in drive/My Drive/res/m3/checkpoint-1000/config.json\n",
      "Model weights saved in drive/My Drive/res/m3/checkpoint-1000/pytorch_model.bin\n",
      "\n",
      "\n",
      "Training completed. Do not forget to share your model on huggingface.co/models =)\n",
      "\n",
      "\n",
      "Loading best model from drive/My Drive/res/m3/checkpoint-1000 (score: 0.3517323136329651).\n"
     ]
    },
    {
     "data": {
      "text/plain": [
       "TrainOutput(global_step=1054, training_loss=0.4266510263113641, metrics={'train_runtime': 5270.8806, 'train_samples_per_second': 2.398, 'train_steps_per_second': 0.2, 'total_flos': 1674152839821312.0, 'train_loss': 0.4266510263113641, 'epoch': 2.0})"
      ]
     },
     "execution_count": 26,
     "metadata": {},
     "output_type": "execute_result"
    }
   ],
   "source": [
    "model = None\n",
    "gc.collect()\n",
    "torch.cuda.empty_cache()\n",
    "\n",
    "device = \"cuda:0\" if torch.cuda.is_available() else \"cpu\"\n",
    "\n",
    "torch.cuda.empty_cache()\n",
    "model = DistilBertForSequenceClassification.from_pretrained(model_name,num_labels=3)\n",
    "model = model.to(device)\n",
    "\n",
    "trainer = Trainer(\n",
    "    model=model,\n",
    "    args=training_args,\n",
    "    train_dataset=train_dataset,\n",
    "    eval_dataset=valid_dataset ,\n",
    "    compute_metrics=compute_metrics,\n",
    ")\n",
    "trainer.train()"
   ]
  },
  {
   "cell_type": "code",
   "execution_count": 27,
   "id": "v0HoJciPpkVL",
   "metadata": {
    "colab": {
     "base_uri": "https://localhost:8080/",
     "height": 571
    },
    "id": "v0HoJciPpkVL",
    "outputId": "90bf5579-2643-4876-83b2-151547956c20"
   },
   "outputs": [
    {
     "name": "stderr",
     "output_type": "stream",
     "text": [
      "***** Running Prediction *****\n",
      "  Num examples = 3949\n",
      "  Batch size = 12\n"
     ]
    },
    {
     "data": {
      "text/html": [
       "\n",
       "    <div>\n",
       "      \n",
       "      <progress value='330' max='330' style='width:300px; height:20px; vertical-align: middle;'></progress>\n",
       "      [330/330 02:08]\n",
       "    </div>\n",
       "    "
      ],
      "text/plain": [
       "<IPython.core.display.HTML object>"
      ]
     },
     "metadata": {},
     "output_type": "display_data"
    },
    {
     "name": "stdout",
     "output_type": "stream",
     "text": [
      "              precision    recall  f1-score   support\n",
      "\n",
      "           0     0.7430    0.7632    0.7529       587\n",
      "           1     0.4722    0.2690    0.3427       316\n",
      "           2     0.9232    0.9596    0.9411      3046\n",
      "\n",
      "    accuracy                         0.8752      3949\n",
      "   macro avg     0.7128    0.6639    0.6789      3949\n",
      "weighted avg     0.8604    0.8752    0.8652      3949\n",
      "\n"
     ]
    },
    {
     "data": {
      "image/png": "[encoded data removed]",
      "text/plain": [
       "<Figure size 432x288 with 2 Axes>"
      ]
     },
     "metadata": {
      "image/png": {
       "height": 296,
       "width": 329
      }
     },
     "output_type": "display_data"
    }
   ],
   "source": [
    "preds = trainer.predict(test_dataset=test_dataset)\n",
    "\n",
    "probs = torch.from_numpy(preds[0]).softmax(1)\n",
    "\n",
    "predictions = np.argmax(probs.numpy(),axis=1)\n",
    "\n",
    "print(metrics.classification_report(cln_test_df[\"sentiment\"].values,predictions,digits=4))\n",
    "\n",
    "disp = metrics.ConfusionMatrixDisplay.from_predictions(\n",
    "    cln_test_df[\"sentiment\"].values,predictions, cmap=plt.cm.Blues\n",
    ")\n",
    "disp.figure_.suptitle(\"Confusion Matrix\")\n",
    "plt.grid(False)\n",
    "plt.show()"
   ]
  },
  {
   "cell_type": "markdown",
   "id": "vvpM2cV7cuCg",
   "metadata": {
    "id": "vvpM2cV7cuCg"
   },
   "source": [
    "> There are improvements compared to the first part.\n",
    "Using the whole dataset would give better results."
   ]
  }
 ],
 "metadata": {
  "accelerator": "GPU",
  "colab": {
   "collapsed_sections": [],
   "name": "Amazon food review - 2nd part (Bert).ipynb",
   "provenance": []
  },
  "kernelspec": {
   "display_name": "Python 3 (ipykernel)",
   "language": "python",
   "name": "python3"
  },
  "language_info": {
   "codemirror_mode": {
    "name": "ipython",
    "version": 3
   },
   "file_extension": ".py",
   "mimetype": "text/x-python",
   "name": "python",
   "nbconvert_exporter": "python",
   "pygments_lexer": "ipython3",
   "version": "3.9.7"
  },
  "widgets": {
   "application/vnd.jupyter.widget-state+json": {
    "001cf98d4da74ffb8b4d6f296b8171f5": {
     "model_module": "@jupyter-widgets/controls",
     "model_module_version": "1.5.0",
     "model_name": "DescriptionStyleModel",
     "state": {
      "_model_module": "@jupyter-widgets/controls",
      "_model_module_version": "1.5.0",
      "_model_name": "DescriptionStyleModel",
      "_view_count": null,
      "_view_module": "@jupyter-widgets/base",
      "_view_module_version": "1.2.0",
      "_view_name": "StyleView",
      "description_width": ""
     }
    },
    "019b9f0e3b834d9990bc711389383fbd": {
     "model_module": "@jupyter-widgets/base",
     "model_module_version": "1.2.0",
     "model_name": "LayoutModel",
     "state": {
      "_model_module": "@jupyter-widgets/base",
      "_model_module_version": "1.2.0",
      "_model_name": "LayoutModel",
      "_view_count": null,
      "_view_module": "@jupyter-widgets/base",
      "_view_module_version": "1.2.0",
      "_view_name": "LayoutView",
      "align_content": null,
      "align_items": null,
      "align_self": null,
      "border": null,
      "bottom": null,
      "display": null,
      "flex": null,
      "flex_flow": null,
      "grid_area": null,
      "grid_auto_columns": null,
      "grid_auto_flow": null,
      "grid_auto_rows": null,
      "grid_column": null,
      "grid_gap": null,
      "grid_row": null,
      "grid_template_areas": null,
      "grid_template_columns": null,
      "grid_template_rows": null,
      "height": null,
      "justify_content": null,
      "justify_items": null,
      "left": null,
      "margin": null,
      "max_height": null,
      "max_width": null,
      "min_height": null,
      "min_width": null,
      "object_fit": null,
      "object_position": null,
      "order": null,
      "overflow": null,
      "overflow_x": null,
      "overflow_y": null,
      "padding": null,
      "right": null,
      "top": null,
      "visibility": null,
      "width": null
     }
    },
    "030fac90f4b94198979173a7ed3409df": {
     "model_module": "@jupyter-widgets/controls",
     "model_module_version": "1.5.0",
     "model_name": "ProgressStyleModel",
     "state": {
      "_model_module": "@jupyter-widgets/controls",
      "_model_module_version": "1.5.0",
      "_model_name": "ProgressStyleModel",
      "_view_count": null,
      "_view_module": "@jupyter-widgets/base",
      "_view_module_version": "1.2.0",
      "_view_name": "StyleView",
      "bar_color": null,
      "description_width": ""
     }
    },
    "0e3ac5d9ccf846c090e45be0f7d0b552": {
     "model_module": "@jupyter-widgets/base",
     "model_module_version": "1.2.0",
     "model_name": "LayoutModel",
     "state": {
      "_model_module": "@jupyter-widgets/base",
      "_model_module_version": "1.2.0",
      "_model_name": "LayoutModel",
      "_view_count": null,
      "_view_module": "@jupyter-widgets/base",
      "_view_module_version": "1.2.0",
      "_view_name": "LayoutView",
      "align_content": null,
      "align_items": null,
      "align_self": null,
      "border": null,
      "bottom": null,
      "display": null,
      "flex": null,
      "flex_flow": null,
      "grid_area": null,
      "grid_auto_columns": null,
      "grid_auto_flow": null,
      "grid_auto_rows": null,
      "grid_column": null,
      "grid_gap": null,
      "grid_row": null,
      "grid_template_areas": null,
      "grid_template_columns": null,
      "grid_template_rows": null,
      "height": null,
      "justify_content": null,
      "justify_items": null,
      "left": null,
      "margin": null,
      "max_height": null,
      "max_width": null,
      "min_height": null,
      "min_width": null,
      "object_fit": null,
      "object_position": null,
      "order": null,
      "overflow": null,
      "overflow_x": null,
      "overflow_y": null,
      "padding": null,
      "right": null,
      "top": null,
      "visibility": null,
      "width": null
     }
    },
    "15ed61f8d3024b63b416d2da26c9a3d7": {
     "model_module": "@jupyter-widgets/base",
     "model_module_version": "1.2.0",
     "model_name": "LayoutModel",
     "state": {
      "_model_module": "@jupyter-widgets/base",
      "_model_module_version": "1.2.0",
      "_model_name": "LayoutModel",
      "_view_count": null,
      "_view_module": "@jupyter-widgets/base",
      "_view_module_version": "1.2.0",
      "_view_name": "LayoutView",
      "align_content": null,
      "align_items": null,
      "align_self": null,
      "border": null,
      "bottom": null,
      "display": null,
      "flex": null,
      "flex_flow": null,
      "grid_area": null,
      "grid_auto_columns": null,
      "grid_auto_flow": null,
      "grid_auto_rows": null,
      "grid_column": null,
      "grid_gap": null,
      "grid_row": null,
      "grid_template_areas": null,
      "grid_template_columns": null,
      "grid_template_rows": null,
      "height": null,
      "justify_content": null,
      "justify_items": null,
      "left": null,
      "margin": null,
      "max_height": null,
      "max_width": null,
      "min_height": null,
      "min_width": null,
      "object_fit": null,
      "object_position": null,
      "order": null,
      "overflow": null,
      "overflow_x": null,
      "overflow_y": null,
      "padding": null,
      "right": null,
      "top": null,
      "visibility": null,
      "width": null
     }
    },
    "17e7016dc3c84d72a509a9667ebd9e23": {
     "model_module": "@jupyter-widgets/controls",
     "model_module_version": "1.5.0",
     "model_name": "ProgressStyleModel",
     "state": {
      "_model_module": "@jupyter-widgets/controls",
      "_model_module_version": "1.5.0",
      "_model_name": "ProgressStyleModel",
      "_view_count": null,
      "_view_module": "@jupyter-widgets/base",
      "_view_module_version": "1.2.0",
      "_view_name": "StyleView",
      "bar_color": null,
      "description_width": ""
     }
    },
    "19c7beec77b2430495d98a24c8fdacc4": {
     "model_module": "@jupyter-widgets/controls",
     "model_module_version": "1.5.0",
     "model_name": "FloatProgressModel",
     "state": {
      "_dom_classes": [],
      "_model_module": "@jupyter-widgets/controls",
      "_model_module_version": "1.5.0",
      "_model_name": "FloatProgressModel",
      "_view_count": null,
      "_view_module": "@jupyter-widgets/controls",
      "_view_module_version": "1.5.0",
      "_view_name": "ProgressView",
      "bar_style": "success",
      "description": "",
      "description_tooltip": null,
      "layout": "IPY_MODEL_74c42493c80a4710a0ed169302ebb4ac",
      "max": 466062,
      "min": 0,
      "orientation": "horizontal",
      "style": "IPY_MODEL_d264e1fd493c4135b0bebff97f907ec5",
      "value": 466062
     }
    },
    "20bd7cee9b194ec19a1be82fb992f98c": {
     "model_module": "@jupyter-widgets/base",
     "model_module_version": "1.2.0",
     "model_name": "LayoutModel",
     "state": {
      "_model_module": "@jupyter-widgets/base",
      "_model_module_version": "1.2.0",
      "_model_name": "LayoutModel",
      "_view_count": null,
      "_view_module": "@jupyter-widgets/base",
      "_view_module_version": "1.2.0",
      "_view_name": "LayoutView",
      "align_content": null,
      "align_items": null,
      "align_self": null,
      "border": null,
      "bottom": null,
      "display": null,
      "flex": null,
      "flex_flow": null,
      "grid_area": null,
      "grid_auto_columns": null,
      "grid_auto_flow": null,
      "grid_auto_rows": null,
      "grid_column": null,
      "grid_gap": null,
      "grid_row": null,
      "grid_template_areas": null,
      "grid_template_columns": null,
      "grid_template_rows": null,
      "height": null,
      "justify_content": null,
      "justify_items": null,
      "left": null,
      "margin": null,
      "max_height": null,
      "max_width": null,
      "min_height": null,
      "min_width": null,
      "object_fit": null,
      "object_position": null,
      "order": null,
      "overflow": null,
      "overflow_x": null,
      "overflow_y": null,
      "padding": null,
      "right": null,
      "top": null,
      "visibility": null,
      "width": null
     }
    },
    "23b8c027c4bb4bffaa23c6592adc0079": {
     "model_module": "@jupyter-widgets/controls",
     "model_module_version": "1.5.0",
     "model_name": "HTMLModel",
     "state": {
      "_dom_classes": [],
      "_model_module": "@jupyter-widgets/controls",
      "_model_module_version": "1.5.0",
      "_model_name": "HTMLModel",
      "_view_count": null,
      "_view_module": "@jupyter-widgets/controls",
      "_view_module_version": "1.5.0",
      "_view_name": "HTMLView",
      "description": "",
      "description_tooltip": null,
      "layout": "IPY_MODEL_c2032006400c49a58962a60b10960b33",
      "placeholder": "​",
      "style": "IPY_MODEL_7e567be1fe024a9390d71f6b8985ce40",
      "value": " 455k/455k [00:00&lt;00:00, 972kB/s]"
     }
    },
    "2671314e816a482e98b4bd6ac653bee9": {
     "model_module": "@jupyter-widgets/base",
     "model_module_version": "1.2.0",
     "model_name": "LayoutModel",
     "state": {
      "_model_module": "@jupyter-widgets/base",
      "_model_module_version": "1.2.0",
      "_model_name": "LayoutModel",
      "_view_count": null,
      "_view_module": "@jupyter-widgets/base",
      "_view_module_version": "1.2.0",
      "_view_name": "LayoutView",
      "align_content": null,
      "align_items": null,
      "align_self": null,
      "border": null,
      "bottom": null,
      "display": null,
      "flex": null,
      "flex_flow": null,
      "grid_area": null,
      "grid_auto_columns": null,
      "grid_auto_flow": null,
      "grid_auto_rows": null,
      "grid_column": null,
      "grid_gap": null,
      "grid_row": null,
      "grid_template_areas": null,
      "grid_template_columns": null,
      "grid_template_rows": null,
      "height": null,
      "justify_content": null,
      "justify_items": null,
      "left": null,
      "margin": null,
      "max_height": null,
      "max_width": null,
      "min_height": null,
      "min_width": null,
      "object_fit": null,
      "object_position": null,
      "order": null,
      "overflow": null,
      "overflow_x": null,
      "overflow_y": null,
      "padding": null,
      "right": null,
      "top": null,
      "visibility": null,
      "width": null
     }
    },
    "376c461b7b144e53ba5ff16b52149505": {
     "model_module": "@jupyter-widgets/base",
     "model_module_version": "1.2.0",
     "model_name": "LayoutModel",
     "state": {
      "_model_module": "@jupyter-widgets/base",
      "_model_module_version": "1.2.0",
      "_model_name": "LayoutModel",
      "_view_count": null,
      "_view_module": "@jupyter-widgets/base",
      "_view_module_version": "1.2.0",
      "_view_name": "LayoutView",
      "align_content": null,
      "align_items": null,
      "align_self": null,
      "border": null,
      "bottom": null,
      "display": null,
      "flex": null,
      "flex_flow": null,
      "grid_area": null,
      "grid_auto_columns": null,
      "grid_auto_flow": null,
      "grid_auto_rows": null,
      "grid_column": null,
      "grid_gap": null,
      "grid_row": null,
      "grid_template_areas": null,
      "grid_template_columns": null,
      "grid_template_rows": null,
      "height": null,
      "justify_content": null,
      "justify_items": null,
      "left": null,
      "margin": null,
      "max_height": null,
      "max_width": null,
      "min_height": null,
      "min_width": null,
      "object_fit": null,
      "object_position": null,
      "order": null,
      "overflow": null,
      "overflow_x": null,
      "overflow_y": null,
      "padding": null,
      "right": null,
      "top": null,
      "visibility": null,
      "width": null
     }
    },
    "4969d66492f54b058c8609c2205bcb8d": {
     "model_module": "@jupyter-widgets/base",
     "model_module_version": "1.2.0",
     "model_name": "LayoutModel",
     "state": {
      "_model_module": "@jupyter-widgets/base",
      "_model_module_version": "1.2.0",
      "_model_name": "LayoutModel",
      "_view_count": null,
      "_view_module": "@jupyter-widgets/base",
      "_view_module_version": "1.2.0",
      "_view_name": "LayoutView",
      "align_content": null,
      "align_items": null,
      "align_self": null,
      "border": null,
      "bottom": null,
      "display": null,
      "flex": null,
      "flex_flow": null,
      "grid_area": null,
      "grid_auto_columns": null,
      "grid_auto_flow": null,
      "grid_auto_rows": null,
      "grid_column": null,
      "grid_gap": null,
      "grid_row": null,
      "grid_template_areas": null,
      "grid_template_columns": null,
      "grid_template_rows": null,
      "height": null,
      "justify_content": null,
      "justify_items": null,
      "left": null,
      "margin": null,
      "max_height": null,
      "max_width": null,
      "min_height": null,
      "min_width": null,
      "object_fit": null,
      "object_position": null,
      "order": null,
      "overflow": null,
      "overflow_x": null,
      "overflow_y": null,
      "padding": null,
      "right": null,
      "top": null,
      "visibility": null,
      "width": null
     }
    },
    "49d7706145444942b5a2fdf037a4ffb3": {
     "model_module": "@jupyter-widgets/controls",
     "model_module_version": "1.5.0",
     "model_name": "FloatProgressModel",
     "state": {
      "_dom_classes": [],
      "_model_module": "@jupyter-widgets/controls",
      "_model_module_version": "1.5.0",
      "_model_name": "FloatProgressModel",
      "_view_count": null,
      "_view_module": "@jupyter-widgets/controls",
      "_view_module_version": "1.5.0",
      "_view_name": "ProgressView",
      "bar_style": "success",
      "description": "",
      "description_tooltip": null,
      "layout": "IPY_MODEL_fc63b5c50b464ba2a4ec8310fc111c8e",
      "max": 231508,
      "min": 0,
      "orientation": "horizontal",
      "style": "IPY_MODEL_efaf2022756a4e5980a90b53833e5eb7",
      "value": 231508
     }
    },
    "52c0a09310fa4da78f043df4fb1228bc": {
     "model_module": "@jupyter-widgets/controls",
     "model_module_version": "1.5.0",
     "model_name": "ProgressStyleModel",
     "state": {
      "_model_module": "@jupyter-widgets/controls",
      "_model_module_version": "1.5.0",
      "_model_name": "ProgressStyleModel",
      "_view_count": null,
      "_view_module": "@jupyter-widgets/base",
      "_view_module_version": "1.2.0",
      "_view_name": "StyleView",
      "bar_color": null,
      "description_width": ""
     }
    },
    "587178ef97de492b9e213bcc71c9caf1": {
     "model_module": "@jupyter-widgets/controls",
     "model_module_version": "1.5.0",
     "model_name": "HBoxModel",
     "state": {
      "_dom_classes": [],
      "_model_module": "@jupyter-widgets/controls",
      "_model_module_version": "1.5.0",
      "_model_name": "HBoxModel",
      "_view_count": null,
      "_view_module": "@jupyter-widgets/controls",
      "_view_module_version": "1.5.0",
      "_view_name": "HBoxView",
      "box_style": "",
      "children": [
       "IPY_MODEL_988a57cca00a40abaf84a9e78dd1f178",
       "IPY_MODEL_e146024a0c05436eaf51f24259670bf3",
       "IPY_MODEL_9698c6c2375446b0bdc5eebb8767723f"
      ],
      "layout": "IPY_MODEL_e8e208a70e714822adcbce352dd47d33"
     }
    },
    "5b9568905bfb4a4baa4f529773b3b6dc": {
     "model_module": "@jupyter-widgets/controls",
     "model_module_version": "1.5.0",
     "model_name": "HBoxModel",
     "state": {
      "_dom_classes": [],
      "_model_module": "@jupyter-widgets/controls",
      "_model_module_version": "1.5.0",
      "_model_name": "HBoxModel",
      "_view_count": null,
      "_view_module": "@jupyter-widgets/controls",
      "_view_module_version": "1.5.0",
      "_view_name": "HBoxView",
      "box_style": "",
      "children": [
       "IPY_MODEL_6e9acefd0e37441a8d72945450ac5885",
       "IPY_MODEL_b422cd3d459644aab9d7b9af21061fc8",
       "IPY_MODEL_c8b4e405681f450e85a07952340a4099"
      ],
      "layout": "IPY_MODEL_b357992b03304d878492c0039c1ce087"
     }
    },
    "5cc365eaa26b40a8a6e1ab4c39a07239": {
     "model_module": "@jupyter-widgets/controls",
     "model_module_version": "1.5.0",
     "model_name": "DescriptionStyleModel",
     "state": {
      "_model_module": "@jupyter-widgets/controls",
      "_model_module_version": "1.5.0",
      "_model_name": "DescriptionStyleModel",
      "_view_count": null,
      "_view_module": "@jupyter-widgets/base",
      "_view_module_version": "1.2.0",
      "_view_name": "StyleView",
      "description_width": ""
     }
    },
    "61f5385d1ce54509ae15dec88b56e0fe": {
     "model_module": "@jupyter-widgets/controls",
     "model_module_version": "1.5.0",
     "model_name": "DescriptionStyleModel",
     "state": {
      "_model_module": "@jupyter-widgets/controls",
      "_model_module_version": "1.5.0",
      "_model_name": "DescriptionStyleModel",
      "_view_count": null,
      "_view_module": "@jupyter-widgets/base",
      "_view_module_version": "1.2.0",
      "_view_name": "StyleView",
      "description_width": ""
     }
    },
    "636797697fb64d8c8c48426c994b8e51": {
     "model_module": "@jupyter-widgets/base",
     "model_module_version": "1.2.0",
     "model_name": "LayoutModel",
     "state": {
      "_model_module": "@jupyter-widgets/base",
      "_model_module_version": "1.2.0",
      "_model_name": "LayoutModel",
      "_view_count": null,
      "_view_module": "@jupyter-widgets/base",
      "_view_module_version": "1.2.0",
      "_view_name": "LayoutView",
      "align_content": null,
      "align_items": null,
      "align_self": null,
      "border": null,
      "bottom": null,
      "display": null,
      "flex": null,
      "flex_flow": null,
      "grid_area": null,
      "grid_auto_columns": null,
      "grid_auto_flow": null,
      "grid_auto_rows": null,
      "grid_column": null,
      "grid_gap": null,
      "grid_row": null,
      "grid_template_areas": null,
      "grid_template_columns": null,
      "grid_template_rows": null,
      "height": null,
      "justify_content": null,
      "justify_items": null,
      "left": null,
      "margin": null,
      "max_height": null,
      "max_width": null,
      "min_height": null,
      "min_width": null,
      "object_fit": null,
      "object_position": null,
      "order": null,
      "overflow": null,
      "overflow_x": null,
      "overflow_y": null,
      "padding": null,
      "right": null,
      "top": null,
      "visibility": null,
      "width": null
     }
    },
    "63d5ac8f813647beb79517c316dddab6": {
     "model_module": "@jupyter-widgets/controls",
     "model_module_version": "1.5.0",
     "model_name": "HBoxModel",
     "state": {
      "_dom_classes": [],
      "_model_module": "@jupyter-widgets/controls",
      "_model_module_version": "1.5.0",
      "_model_name": "HBoxModel",
      "_view_count": null,
      "_view_module": "@jupyter-widgets/controls",
      "_view_module_version": "1.5.0",
      "_view_name": "HBoxView",
      "box_style": "",
      "children": [
       "IPY_MODEL_fd15c82e7cd745518cf47d40643a6f9e",
       "IPY_MODEL_49d7706145444942b5a2fdf037a4ffb3",
       "IPY_MODEL_dfc7b70aa8654e66af7dde24ff68ab51"
      ],
      "layout": "IPY_MODEL_9f2a3d26dee041dcac78030198523673"
     }
    },
    "680684777755477f93132aa7781e49f2": {
     "model_module": "@jupyter-widgets/controls",
     "model_module_version": "1.5.0",
     "model_name": "DescriptionStyleModel",
     "state": {
      "_model_module": "@jupyter-widgets/controls",
      "_model_module_version": "1.5.0",
      "_model_name": "DescriptionStyleModel",
      "_view_count": null,
      "_view_module": "@jupyter-widgets/base",
      "_view_module_version": "1.2.0",
      "_view_name": "StyleView",
      "description_width": ""
     }
    },
    "6e9acefd0e37441a8d72945450ac5885": {
     "model_module": "@jupyter-widgets/controls",
     "model_module_version": "1.5.0",
     "model_name": "HTMLModel",
     "state": {
      "_dom_classes": [],
      "_model_module": "@jupyter-widgets/controls",
      "_model_module_version": "1.5.0",
      "_model_name": "HTMLModel",
      "_view_count": null,
      "_view_module": "@jupyter-widgets/controls",
      "_view_module_version": "1.5.0",
      "_view_name": "HTMLView",
      "description": "",
      "description_tooltip": null,
      "layout": "IPY_MODEL_20bd7cee9b194ec19a1be82fb992f98c",
      "placeholder": "​",
      "style": "IPY_MODEL_8f7992c190e0443b92466d9288a853b2",
      "value": "Downloading: 100%"
     }
    },
    "732c176b2baa484d96b44d7eab9d60e0": {
     "model_module": "@jupyter-widgets/controls",
     "model_module_version": "1.5.0",
     "model_name": "FloatProgressModel",
     "state": {
      "_dom_classes": [],
      "_model_module": "@jupyter-widgets/controls",
      "_model_module_version": "1.5.0",
      "_model_name": "FloatProgressModel",
      "_view_count": null,
      "_view_module": "@jupyter-widgets/controls",
      "_view_module_version": "1.5.0",
      "_view_name": "ProgressView",
      "bar_style": "success",
      "description": "",
      "description_tooltip": null,
      "layout": "IPY_MODEL_15ed61f8d3024b63b416d2da26c9a3d7",
      "max": 483,
      "min": 0,
      "orientation": "horizontal",
      "style": "IPY_MODEL_17e7016dc3c84d72a509a9667ebd9e23",
      "value": 483
     }
    },
    "74c42493c80a4710a0ed169302ebb4ac": {
     "model_module": "@jupyter-widgets/base",
     "model_module_version": "1.2.0",
     "model_name": "LayoutModel",
     "state": {
      "_model_module": "@jupyter-widgets/base",
      "_model_module_version": "1.2.0",
      "_model_name": "LayoutModel",
      "_view_count": null,
      "_view_module": "@jupyter-widgets/base",
      "_view_module_version": "1.2.0",
      "_view_name": "LayoutView",
      "align_content": null,
      "align_items": null,
      "align_self": null,
      "border": null,
      "bottom": null,
      "display": null,
      "flex": null,
      "flex_flow": null,
      "grid_area": null,
      "grid_auto_columns": null,
      "grid_auto_flow": null,
      "grid_auto_rows": null,
      "grid_column": null,
      "grid_gap": null,
      "grid_row": null,
      "grid_template_areas": null,
      "grid_template_columns": null,
      "grid_template_rows": null,
      "height": null,
      "justify_content": null,
      "justify_items": null,
      "left": null,
      "margin": null,
      "max_height": null,
      "max_width": null,
      "min_height": null,
      "min_width": null,
      "object_fit": null,
      "object_position": null,
      "order": null,
      "overflow": null,
      "overflow_x": null,
      "overflow_y": null,
      "padding": null,
      "right": null,
      "top": null,
      "visibility": null,
      "width": null
     }
    },
    "7799a38fb39f428fa49e16d9d954b85c": {
     "model_module": "@jupyter-widgets/controls",
     "model_module_version": "1.5.0",
     "model_name": "DescriptionStyleModel",
     "state": {
      "_model_module": "@jupyter-widgets/controls",
      "_model_module_version": "1.5.0",
      "_model_name": "DescriptionStyleModel",
      "_view_count": null,
      "_view_module": "@jupyter-widgets/base",
      "_view_module_version": "1.2.0",
      "_view_name": "StyleView",
      "description_width": ""
     }
    },
    "7dd0b1546afd4626b6e8a3c17223cbbd": {
     "model_module": "@jupyter-widgets/controls",
     "model_module_version": "1.5.0",
     "model_name": "HBoxModel",
     "state": {
      "_dom_classes": [],
      "_model_module": "@jupyter-widgets/controls",
      "_model_module_version": "1.5.0",
      "_model_name": "HBoxModel",
      "_view_count": null,
      "_view_module": "@jupyter-widgets/controls",
      "_view_module_version": "1.5.0",
      "_view_name": "HBoxView",
      "box_style": "",
      "children": [
       "IPY_MODEL_a5d726d26de34f9092fc04d44410384c",
       "IPY_MODEL_19c7beec77b2430495d98a24c8fdacc4",
       "IPY_MODEL_23b8c027c4bb4bffaa23c6592adc0079"
      ],
      "layout": "IPY_MODEL_99de1288c0c14e98bcd78e6d10ff0ade"
     }
    },
    "7e567be1fe024a9390d71f6b8985ce40": {
     "model_module": "@jupyter-widgets/controls",
     "model_module_version": "1.5.0",
     "model_name": "DescriptionStyleModel",
     "state": {
      "_model_module": "@jupyter-widgets/controls",
      "_model_module_version": "1.5.0",
      "_model_name": "DescriptionStyleModel",
      "_view_count": null,
      "_view_module": "@jupyter-widgets/base",
      "_view_module_version": "1.2.0",
      "_view_name": "StyleView",
      "description_width": ""
     }
    },
    "7e8c17df26b9437c866d6c4d4ebdb2cb": {
     "model_module": "@jupyter-widgets/base",
     "model_module_version": "1.2.0",
     "model_name": "LayoutModel",
     "state": {
      "_model_module": "@jupyter-widgets/base",
      "_model_module_version": "1.2.0",
      "_model_name": "LayoutModel",
      "_view_count": null,
      "_view_module": "@jupyter-widgets/base",
      "_view_module_version": "1.2.0",
      "_view_name": "LayoutView",
      "align_content": null,
      "align_items": null,
      "align_self": null,
      "border": null,
      "bottom": null,
      "display": null,
      "flex": null,
      "flex_flow": null,
      "grid_area": null,
      "grid_auto_columns": null,
      "grid_auto_flow": null,
      "grid_auto_rows": null,
      "grid_column": null,
      "grid_gap": null,
      "grid_row": null,
      "grid_template_areas": null,
      "grid_template_columns": null,
      "grid_template_rows": null,
      "height": null,
      "justify_content": null,
      "justify_items": null,
      "left": null,
      "margin": null,
      "max_height": null,
      "max_width": null,
      "min_height": null,
      "min_width": null,
      "object_fit": null,
      "object_position": null,
      "order": null,
      "overflow": null,
      "overflow_x": null,
      "overflow_y": null,
      "padding": null,
      "right": null,
      "top": null,
      "visibility": null,
      "width": null
     }
    },
    "83ae4cd7e6b1401593110e988dd4baf0": {
     "model_module": "@jupyter-widgets/controls",
     "model_module_version": "1.5.0",
     "model_name": "HTMLModel",
     "state": {
      "_dom_classes": [],
      "_model_module": "@jupyter-widgets/controls",
      "_model_module_version": "1.5.0",
      "_model_name": "HTMLModel",
      "_view_count": null,
      "_view_module": "@jupyter-widgets/controls",
      "_view_module_version": "1.5.0",
      "_view_name": "HTMLView",
      "description": "",
      "description_tooltip": null,
      "layout": "IPY_MODEL_019b9f0e3b834d9990bc711389383fbd",
      "placeholder": "​",
      "style": "IPY_MODEL_aecadf89d13d4e17a41145a1024cf66a",
      "value": "Downloading: 100%"
     }
    },
    "862145a3c73c4412b740c354465d8d5e": {
     "model_module": "@jupyter-widgets/base",
     "model_module_version": "1.2.0",
     "model_name": "LayoutModel",
     "state": {
      "_model_module": "@jupyter-widgets/base",
      "_model_module_version": "1.2.0",
      "_model_name": "LayoutModel",
      "_view_count": null,
      "_view_module": "@jupyter-widgets/base",
      "_view_module_version": "1.2.0",
      "_view_name": "LayoutView",
      "align_content": null,
      "align_items": null,
      "align_self": null,
      "border": null,
      "bottom": null,
      "display": null,
      "flex": null,
      "flex_flow": null,
      "grid_area": null,
      "grid_auto_columns": null,
      "grid_auto_flow": null,
      "grid_auto_rows": null,
      "grid_column": null,
      "grid_gap": null,
      "grid_row": null,
      "grid_template_areas": null,
      "grid_template_columns": null,
      "grid_template_rows": null,
      "height": null,
      "justify_content": null,
      "justify_items": null,
      "left": null,
      "margin": null,
      "max_height": null,
      "max_width": null,
      "min_height": null,
      "min_width": null,
      "object_fit": null,
      "object_position": null,
      "order": null,
      "overflow": null,
      "overflow_x": null,
      "overflow_y": null,
      "padding": null,
      "right": null,
      "top": null,
      "visibility": null,
      "width": null
     }
    },
    "8f7992c190e0443b92466d9288a853b2": {
     "model_module": "@jupyter-widgets/controls",
     "model_module_version": "1.5.0",
     "model_name": "DescriptionStyleModel",
     "state": {
      "_model_module": "@jupyter-widgets/controls",
      "_model_module_version": "1.5.0",
      "_model_name": "DescriptionStyleModel",
      "_view_count": null,
      "_view_module": "@jupyter-widgets/base",
      "_view_module_version": "1.2.0",
      "_view_name": "StyleView",
      "description_width": ""
     }
    },
    "965ef21512304ea1b7e2e66f0e24c009": {
     "model_module": "@jupyter-widgets/base",
     "model_module_version": "1.2.0",
     "model_name": "LayoutModel",
     "state": {
      "_model_module": "@jupyter-widgets/base",
      "_model_module_version": "1.2.0",
      "_model_name": "LayoutModel",
      "_view_count": null,
      "_view_module": "@jupyter-widgets/base",
      "_view_module_version": "1.2.0",
      "_view_name": "LayoutView",
      "align_content": null,
      "align_items": null,
      "align_self": null,
      "border": null,
      "bottom": null,
      "display": null,
      "flex": null,
      "flex_flow": null,
      "grid_area": null,
      "grid_auto_columns": null,
      "grid_auto_flow": null,
      "grid_auto_rows": null,
      "grid_column": null,
      "grid_gap": null,
      "grid_row": null,
      "grid_template_areas": null,
      "grid_template_columns": null,
      "grid_template_rows": null,
      "height": null,
      "justify_content": null,
      "justify_items": null,
      "left": null,
      "margin": null,
      "max_height": null,
      "max_width": null,
      "min_height": null,
      "min_width": null,
      "object_fit": null,
      "object_position": null,
      "order": null,
      "overflow": null,
      "overflow_x": null,
      "overflow_y": null,
      "padding": null,
      "right": null,
      "top": null,
      "visibility": null,
      "width": null
     }
    },
    "9698c6c2375446b0bdc5eebb8767723f": {
     "model_module": "@jupyter-widgets/controls",
     "model_module_version": "1.5.0",
     "model_name": "HTMLModel",
     "state": {
      "_dom_classes": [],
      "_model_module": "@jupyter-widgets/controls",
      "_model_module_version": "1.5.0",
      "_model_name": "HTMLModel",
      "_view_count": null,
      "_view_module": "@jupyter-widgets/controls",
      "_view_module_version": "1.5.0",
      "_view_name": "HTMLView",
      "description": "",
      "description_tooltip": null,
      "layout": "IPY_MODEL_636797697fb64d8c8c48426c994b8e51",
      "placeholder": "​",
      "style": "IPY_MODEL_c1fb3a16e26b490baa03f9b1d5037449",
      "value": " 256M/256M [00:07&lt;00:00, 38.7MB/s]"
     }
    },
    "988a57cca00a40abaf84a9e78dd1f178": {
     "model_module": "@jupyter-widgets/controls",
     "model_module_version": "1.5.0",
     "model_name": "HTMLModel",
     "state": {
      "_dom_classes": [],
      "_model_module": "@jupyter-widgets/controls",
      "_model_module_version": "1.5.0",
      "_model_name": "HTMLModel",
      "_view_count": null,
      "_view_module": "@jupyter-widgets/controls",
      "_view_module_version": "1.5.0",
      "_view_name": "HTMLView",
      "description": "",
      "description_tooltip": null,
      "layout": "IPY_MODEL_376c461b7b144e53ba5ff16b52149505",
      "placeholder": "​",
      "style": "IPY_MODEL_001cf98d4da74ffb8b4d6f296b8171f5",
      "value": "Downloading: 100%"
     }
    },
    "9940a9ea883f41b2a5fad458adb3ab64": {
     "model_module": "@jupyter-widgets/controls",
     "model_module_version": "1.5.0",
     "model_name": "HTMLModel",
     "state": {
      "_dom_classes": [],
      "_model_module": "@jupyter-widgets/controls",
      "_model_module_version": "1.5.0",
      "_model_name": "HTMLModel",
      "_view_count": null,
      "_view_module": "@jupyter-widgets/controls",
      "_view_module_version": "1.5.0",
      "_view_name": "HTMLView",
      "description": "",
      "description_tooltip": null,
      "layout": "IPY_MODEL_0e3ac5d9ccf846c090e45be0f7d0b552",
      "placeholder": "​",
      "style": "IPY_MODEL_680684777755477f93132aa7781e49f2",
      "value": " 483/483 [00:00&lt;00:00, 13.0kB/s]"
     }
    },
    "99de1288c0c14e98bcd78e6d10ff0ade": {
     "model_module": "@jupyter-widgets/base",
     "model_module_version": "1.2.0",
     "model_name": "LayoutModel",
     "state": {
      "_model_module": "@jupyter-widgets/base",
      "_model_module_version": "1.2.0",
      "_model_name": "LayoutModel",
      "_view_count": null,
      "_view_module": "@jupyter-widgets/base",
      "_view_module_version": "1.2.0",
      "_view_name": "LayoutView",
      "align_content": null,
      "align_items": null,
      "align_self": null,
      "border": null,
      "bottom": null,
      "display": null,
      "flex": null,
      "flex_flow": null,
      "grid_area": null,
      "grid_auto_columns": null,
      "grid_auto_flow": null,
      "grid_auto_rows": null,
      "grid_column": null,
      "grid_gap": null,
      "grid_row": null,
      "grid_template_areas": null,
      "grid_template_columns": null,
      "grid_template_rows": null,
      "height": null,
      "justify_content": null,
      "justify_items": null,
      "left": null,
      "margin": null,
      "max_height": null,
      "max_width": null,
      "min_height": null,
      "min_width": null,
      "object_fit": null,
      "object_position": null,
      "order": null,
      "overflow": null,
      "overflow_x": null,
      "overflow_y": null,
      "padding": null,
      "right": null,
      "top": null,
      "visibility": null,
      "width": null
     }
    },
    "9f2a3d26dee041dcac78030198523673": {
     "model_module": "@jupyter-widgets/base",
     "model_module_version": "1.2.0",
     "model_name": "LayoutModel",
     "state": {
      "_model_module": "@jupyter-widgets/base",
      "_model_module_version": "1.2.0",
      "_model_name": "LayoutModel",
      "_view_count": null,
      "_view_module": "@jupyter-widgets/base",
      "_view_module_version": "1.2.0",
      "_view_name": "LayoutView",
      "align_content": null,
      "align_items": null,
      "align_self": null,
      "border": null,
      "bottom": null,
      "display": null,
      "flex": null,
      "flex_flow": null,
      "grid_area": null,
      "grid_auto_columns": null,
      "grid_auto_flow": null,
      "grid_auto_rows": null,
      "grid_column": null,
      "grid_gap": null,
      "grid_row": null,
      "grid_template_areas": null,
      "grid_template_columns": null,
      "grid_template_rows": null,
      "height": null,
      "justify_content": null,
      "justify_items": null,
      "left": null,
      "margin": null,
      "max_height": null,
      "max_width": null,
      "min_height": null,
      "min_width": null,
      "object_fit": null,
      "object_position": null,
      "order": null,
      "overflow": null,
      "overflow_x": null,
      "overflow_y": null,
      "padding": null,
      "right": null,
      "top": null,
      "visibility": null,
      "width": null
     }
    },
    "a5d726d26de34f9092fc04d44410384c": {
     "model_module": "@jupyter-widgets/controls",
     "model_module_version": "1.5.0",
     "model_name": "HTMLModel",
     "state": {
      "_dom_classes": [],
      "_model_module": "@jupyter-widgets/controls",
      "_model_module_version": "1.5.0",
      "_model_name": "HTMLModel",
      "_view_count": null,
      "_view_module": "@jupyter-widgets/controls",
      "_view_module_version": "1.5.0",
      "_view_name": "HTMLView",
      "description": "",
      "description_tooltip": null,
      "layout": "IPY_MODEL_7e8c17df26b9437c866d6c4d4ebdb2cb",
      "placeholder": "​",
      "style": "IPY_MODEL_5cc365eaa26b40a8a6e1ab4c39a07239",
      "value": "Downloading: 100%"
     }
    },
    "aecadf89d13d4e17a41145a1024cf66a": {
     "model_module": "@jupyter-widgets/controls",
     "model_module_version": "1.5.0",
     "model_name": "DescriptionStyleModel",
     "state": {
      "_model_module": "@jupyter-widgets/controls",
      "_model_module_version": "1.5.0",
      "_model_name": "DescriptionStyleModel",
      "_view_count": null,
      "_view_module": "@jupyter-widgets/base",
      "_view_module_version": "1.2.0",
      "_view_name": "StyleView",
      "description_width": ""
     }
    },
    "b357992b03304d878492c0039c1ce087": {
     "model_module": "@jupyter-widgets/base",
     "model_module_version": "1.2.0",
     "model_name": "LayoutModel",
     "state": {
      "_model_module": "@jupyter-widgets/base",
      "_model_module_version": "1.2.0",
      "_model_name": "LayoutModel",
      "_view_count": null,
      "_view_module": "@jupyter-widgets/base",
      "_view_module_version": "1.2.0",
      "_view_name": "LayoutView",
      "align_content": null,
      "align_items": null,
      "align_self": null,
      "border": null,
      "bottom": null,
      "display": null,
      "flex": null,
      "flex_flow": null,
      "grid_area": null,
      "grid_auto_columns": null,
      "grid_auto_flow": null,
      "grid_auto_rows": null,
      "grid_column": null,
      "grid_gap": null,
      "grid_row": null,
      "grid_template_areas": null,
      "grid_template_columns": null,
      "grid_template_rows": null,
      "height": null,
      "justify_content": null,
      "justify_items": null,
      "left": null,
      "margin": null,
      "max_height": null,
      "max_width": null,
      "min_height": null,
      "min_width": null,
      "object_fit": null,
      "object_position": null,
      "order": null,
      "overflow": null,
      "overflow_x": null,
      "overflow_y": null,
      "padding": null,
      "right": null,
      "top": null,
      "visibility": null,
      "width": null
     }
    },
    "b422cd3d459644aab9d7b9af21061fc8": {
     "model_module": "@jupyter-widgets/controls",
     "model_module_version": "1.5.0",
     "model_name": "FloatProgressModel",
     "state": {
      "_dom_classes": [],
      "_model_module": "@jupyter-widgets/controls",
      "_model_module_version": "1.5.0",
      "_model_name": "FloatProgressModel",
      "_view_count": null,
      "_view_module": "@jupyter-widgets/controls",
      "_view_module_version": "1.5.0",
      "_view_name": "ProgressView",
      "bar_style": "success",
      "description": "",
      "description_tooltip": null,
      "layout": "IPY_MODEL_862145a3c73c4412b740c354465d8d5e",
      "max": 28,
      "min": 0,
      "orientation": "horizontal",
      "style": "IPY_MODEL_030fac90f4b94198979173a7ed3409df",
      "value": 28
     }
    },
    "bea8d484ceaa4d838de16e14f1b2563a": {
     "model_module": "@jupyter-widgets/base",
     "model_module_version": "1.2.0",
     "model_name": "LayoutModel",
     "state": {
      "_model_module": "@jupyter-widgets/base",
      "_model_module_version": "1.2.0",
      "_model_name": "LayoutModel",
      "_view_count": null,
      "_view_module": "@jupyter-widgets/base",
      "_view_module_version": "1.2.0",
      "_view_name": "LayoutView",
      "align_content": null,
      "align_items": null,
      "align_self": null,
      "border": null,
      "bottom": null,
      "display": null,
      "flex": null,
      "flex_flow": null,
      "grid_area": null,
      "grid_auto_columns": null,
      "grid_auto_flow": null,
      "grid_auto_rows": null,
      "grid_column": null,
      "grid_gap": null,
      "grid_row": null,
      "grid_template_areas": null,
      "grid_template_columns": null,
      "grid_template_rows": null,
      "height": null,
      "justify_content": null,
      "justify_items": null,
      "left": null,
      "margin": null,
      "max_height": null,
      "max_width": null,
      "min_height": null,
      "min_width": null,
      "object_fit": null,
      "object_position": null,
      "order": null,
      "overflow": null,
      "overflow_x": null,
      "overflow_y": null,
      "padding": null,
      "right": null,
      "top": null,
      "visibility": null,
      "width": null
     }
    },
    "bfc57de3a1834920a9eb6b5cd65bfb4d": {
     "model_module": "@jupyter-widgets/base",
     "model_module_version": "1.2.0",
     "model_name": "LayoutModel",
     "state": {
      "_model_module": "@jupyter-widgets/base",
      "_model_module_version": "1.2.0",
      "_model_name": "LayoutModel",
      "_view_count": null,
      "_view_module": "@jupyter-widgets/base",
      "_view_module_version": "1.2.0",
      "_view_name": "LayoutView",
      "align_content": null,
      "align_items": null,
      "align_self": null,
      "border": null,
      "bottom": null,
      "display": null,
      "flex": null,
      "flex_flow": null,
      "grid_area": null,
      "grid_auto_columns": null,
      "grid_auto_flow": null,
      "grid_auto_rows": null,
      "grid_column": null,
      "grid_gap": null,
      "grid_row": null,
      "grid_template_areas": null,
      "grid_template_columns": null,
      "grid_template_rows": null,
      "height": null,
      "justify_content": null,
      "justify_items": null,
      "left": null,
      "margin": null,
      "max_height": null,
      "max_width": null,
      "min_height": null,
      "min_width": null,
      "object_fit": null,
      "object_position": null,
      "order": null,
      "overflow": null,
      "overflow_x": null,
      "overflow_y": null,
      "padding": null,
      "right": null,
      "top": null,
      "visibility": null,
      "width": null
     }
    },
    "c125679c1d0244e4afb9bf87a0c4cb75": {
     "model_module": "@jupyter-widgets/controls",
     "model_module_version": "1.5.0",
     "model_name": "DescriptionStyleModel",
     "state": {
      "_model_module": "@jupyter-widgets/controls",
      "_model_module_version": "1.5.0",
      "_model_name": "DescriptionStyleModel",
      "_view_count": null,
      "_view_module": "@jupyter-widgets/base",
      "_view_module_version": "1.2.0",
      "_view_name": "StyleView",
      "description_width": ""
     }
    },
    "c1fb3a16e26b490baa03f9b1d5037449": {
     "model_module": "@jupyter-widgets/controls",
     "model_module_version": "1.5.0",
     "model_name": "DescriptionStyleModel",
     "state": {
      "_model_module": "@jupyter-widgets/controls",
      "_model_module_version": "1.5.0",
      "_model_name": "DescriptionStyleModel",
      "_view_count": null,
      "_view_module": "@jupyter-widgets/base",
      "_view_module_version": "1.2.0",
      "_view_name": "StyleView",
      "description_width": ""
     }
    },
    "c2032006400c49a58962a60b10960b33": {
     "model_module": "@jupyter-widgets/base",
     "model_module_version": "1.2.0",
     "model_name": "LayoutModel",
     "state": {
      "_model_module": "@jupyter-widgets/base",
      "_model_module_version": "1.2.0",
      "_model_name": "LayoutModel",
      "_view_count": null,
      "_view_module": "@jupyter-widgets/base",
      "_view_module_version": "1.2.0",
      "_view_name": "LayoutView",
      "align_content": null,
      "align_items": null,
      "align_self": null,
      "border": null,
      "bottom": null,
      "display": null,
      "flex": null,
      "flex_flow": null,
      "grid_area": null,
      "grid_auto_columns": null,
      "grid_auto_flow": null,
      "grid_auto_rows": null,
      "grid_column": null,
      "grid_gap": null,
      "grid_row": null,
      "grid_template_areas": null,
      "grid_template_columns": null,
      "grid_template_rows": null,
      "height": null,
      "justify_content": null,
      "justify_items": null,
      "left": null,
      "margin": null,
      "max_height": null,
      "max_width": null,
      "min_height": null,
      "min_width": null,
      "object_fit": null,
      "object_position": null,
      "order": null,
      "overflow": null,
      "overflow_x": null,
      "overflow_y": null,
      "padding": null,
      "right": null,
      "top": null,
      "visibility": null,
      "width": null
     }
    },
    "c8b4e405681f450e85a07952340a4099": {
     "model_module": "@jupyter-widgets/controls",
     "model_module_version": "1.5.0",
     "model_name": "HTMLModel",
     "state": {
      "_dom_classes": [],
      "_model_module": "@jupyter-widgets/controls",
      "_model_module_version": "1.5.0",
      "_model_name": "HTMLModel",
      "_view_count": null,
      "_view_module": "@jupyter-widgets/controls",
      "_view_module_version": "1.5.0",
      "_view_name": "HTMLView",
      "description": "",
      "description_tooltip": null,
      "layout": "IPY_MODEL_bfc57de3a1834920a9eb6b5cd65bfb4d",
      "placeholder": "​",
      "style": "IPY_MODEL_c125679c1d0244e4afb9bf87a0c4cb75",
      "value": " 28.0/28.0 [00:00&lt;00:00, 800B/s]"
     }
    },
    "d264e1fd493c4135b0bebff97f907ec5": {
     "model_module": "@jupyter-widgets/controls",
     "model_module_version": "1.5.0",
     "model_name": "ProgressStyleModel",
     "state": {
      "_model_module": "@jupyter-widgets/controls",
      "_model_module_version": "1.5.0",
      "_model_name": "ProgressStyleModel",
      "_view_count": null,
      "_view_module": "@jupyter-widgets/base",
      "_view_module_version": "1.2.0",
      "_view_name": "StyleView",
      "bar_color": null,
      "description_width": ""
     }
    },
    "dfc7b70aa8654e66af7dde24ff68ab51": {
     "model_module": "@jupyter-widgets/controls",
     "model_module_version": "1.5.0",
     "model_name": "HTMLModel",
     "state": {
      "_dom_classes": [],
      "_model_module": "@jupyter-widgets/controls",
      "_model_module_version": "1.5.0",
      "_model_name": "HTMLModel",
      "_view_count": null,
      "_view_module": "@jupyter-widgets/controls",
      "_view_module_version": "1.5.0",
      "_view_name": "HTMLView",
      "description": "",
      "description_tooltip": null,
      "layout": "IPY_MODEL_4969d66492f54b058c8609c2205bcb8d",
      "placeholder": "​",
      "style": "IPY_MODEL_7799a38fb39f428fa49e16d9d954b85c",
      "value": " 226k/226k [00:00&lt;00:00, 1.08MB/s]"
     }
    },
    "e146024a0c05436eaf51f24259670bf3": {
     "model_module": "@jupyter-widgets/controls",
     "model_module_version": "1.5.0",
     "model_name": "FloatProgressModel",
     "state": {
      "_dom_classes": [],
      "_model_module": "@jupyter-widgets/controls",
      "_model_module_version": "1.5.0",
      "_model_name": "FloatProgressModel",
      "_view_count": null,
      "_view_module": "@jupyter-widgets/controls",
      "_view_module_version": "1.5.0",
      "_view_name": "ProgressView",
      "bar_style": "success",
      "description": "",
      "description_tooltip": null,
      "layout": "IPY_MODEL_bea8d484ceaa4d838de16e14f1b2563a",
      "max": 267967963,
      "min": 0,
      "orientation": "horizontal",
      "style": "IPY_MODEL_52c0a09310fa4da78f043df4fb1228bc",
      "value": 267967963
     }
    },
    "e8e208a70e714822adcbce352dd47d33": {
     "model_module": "@jupyter-widgets/base",
     "model_module_version": "1.2.0",
     "model_name": "LayoutModel",
     "state": {
      "_model_module": "@jupyter-widgets/base",
      "_model_module_version": "1.2.0",
      "_model_name": "LayoutModel",
      "_view_count": null,
      "_view_module": "@jupyter-widgets/base",
      "_view_module_version": "1.2.0",
      "_view_name": "LayoutView",
      "align_content": null,
      "align_items": null,
      "align_self": null,
      "border": null,
      "bottom": null,
      "display": null,
      "flex": null,
      "flex_flow": null,
      "grid_area": null,
      "grid_auto_columns": null,
      "grid_auto_flow": null,
      "grid_auto_rows": null,
      "grid_column": null,
      "grid_gap": null,
      "grid_row": null,
      "grid_template_areas": null,
      "grid_template_columns": null,
      "grid_template_rows": null,
      "height": null,
      "justify_content": null,
      "justify_items": null,
      "left": null,
      "margin": null,
      "max_height": null,
      "max_width": null,
      "min_height": null,
      "min_width": null,
      "object_fit": null,
      "object_position": null,
      "order": null,
      "overflow": null,
      "overflow_x": null,
      "overflow_y": null,
      "padding": null,
      "right": null,
      "top": null,
      "visibility": null,
      "width": null
     }
    },
    "eb55f2ed22334e4db3e958a796352ffb": {
     "model_module": "@jupyter-widgets/controls",
     "model_module_version": "1.5.0",
     "model_name": "HBoxModel",
     "state": {
      "_dom_classes": [],
      "_model_module": "@jupyter-widgets/controls",
      "_model_module_version": "1.5.0",
      "_model_name": "HBoxModel",
      "_view_count": null,
      "_view_module": "@jupyter-widgets/controls",
      "_view_module_version": "1.5.0",
      "_view_name": "HBoxView",
      "box_style": "",
      "children": [
       "IPY_MODEL_83ae4cd7e6b1401593110e988dd4baf0",
       "IPY_MODEL_732c176b2baa484d96b44d7eab9d60e0",
       "IPY_MODEL_9940a9ea883f41b2a5fad458adb3ab64"
      ],
      "layout": "IPY_MODEL_2671314e816a482e98b4bd6ac653bee9"
     }
    },
    "efaf2022756a4e5980a90b53833e5eb7": {
     "model_module": "@jupyter-widgets/controls",
     "model_module_version": "1.5.0",
     "model_name": "ProgressStyleModel",
     "state": {
      "_model_module": "@jupyter-widgets/controls",
      "_model_module_version": "1.5.0",
      "_model_name": "ProgressStyleModel",
      "_view_count": null,
      "_view_module": "@jupyter-widgets/base",
      "_view_module_version": "1.2.0",
      "_view_name": "StyleView",
      "bar_color": null,
      "description_width": ""
     }
    },
    "fc63b5c50b464ba2a4ec8310fc111c8e": {
     "model_module": "@jupyter-widgets/base",
     "model_module_version": "1.2.0",
     "model_name": "LayoutModel",
     "state": {
      "_model_module": "@jupyter-widgets/base",
      "_model_module_version": "1.2.0",
      "_model_name": "LayoutModel",
      "_view_count": null,
      "_view_module": "@jupyter-widgets/base",
      "_view_module_version": "1.2.0",
      "_view_name": "LayoutView",
      "align_content": null,
      "align_items": null,
      "align_self": null,
      "border": null,
      "bottom": null,
      "display": null,
      "flex": null,
      "flex_flow": null,
      "grid_area": null,
      "grid_auto_columns": null,
      "grid_auto_flow": null,
      "grid_auto_rows": null,
      "grid_column": null,
      "grid_gap": null,
      "grid_row": null,
      "grid_template_areas": null,
      "grid_template_columns": null,
      "grid_template_rows": null,
      "height": null,
      "justify_content": null,
      "justify_items": null,
      "left": null,
      "margin": null,
      "max_height": null,
      "max_width": null,
      "min_height": null,
      "min_width": null,
      "object_fit": null,
      "object_position": null,
      "order": null,
      "overflow": null,
      "overflow_x": null,
      "overflow_y": null,
      "padding": null,
      "right": null,
      "top": null,
      "visibility": null,
      "width": null
     }
    },
    "fd15c82e7cd745518cf47d40643a6f9e": {
     "model_module": "@jupyter-widgets/controls",
     "model_module_version": "1.5.0",
     "model_name": "HTMLModel",
     "state": {
      "_dom_classes": [],
      "_model_module": "@jupyter-widgets/controls",
      "_model_module_version": "1.5.0",
      "_model_name": "HTMLModel",
      "_view_count": null,
      "_view_module": "@jupyter-widgets/controls",
      "_view_module_version": "1.5.0",
      "_view_name": "HTMLView",
      "description": "",
      "description_tooltip": null,
      "layout": "IPY_MODEL_965ef21512304ea1b7e2e66f0e24c009",
      "placeholder": "​",
      "style": "IPY_MODEL_61f5385d1ce54509ae15dec88b56e0fe",
      "value": "Downloading: 100%"
     }
    }
   }
  }
 },
 "nbformat": 4,
 "nbformat_minor": 5
}
